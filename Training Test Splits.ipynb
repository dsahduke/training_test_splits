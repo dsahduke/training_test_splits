{
 "cells": [
  {
   "cell_type": "markdown",
   "metadata": {},
   "source": [
    "> git clone https://github.com/dsahduke/training_test_splits.git"
   ]
  },
  {
   "cell_type": "markdown",
   "metadata": {},
   "source": [
    "Download dataset: https://duke.box.com/s/uvjhg4i6umrytkvzadusfbn9w4cg3znm"
   ]
  },
  {
   "cell_type": "code",
   "execution_count": 1,
   "metadata": {},
   "outputs": [],
   "source": [
    "import pandas as pd"
   ]
  },
  {
   "cell_type": "code",
   "execution_count": 2,
   "metadata": {
    "scrolled": true
   },
   "outputs": [],
   "source": [
    "model_matrix = pd.read_csv(\"./data/model_matrix.csv\")"
   ]
  },
  {
   "cell_type": "code",
   "execution_count": 3,
   "metadata": {
    "scrolled": true
   },
   "outputs": [
    {
     "data": {
      "text/html": [
       "<div>\n",
       "<style scoped>\n",
       "    .dataframe tbody tr th:only-of-type {\n",
       "        vertical-align: middle;\n",
       "    }\n",
       "\n",
       "    .dataframe tbody tr th {\n",
       "        vertical-align: top;\n",
       "    }\n",
       "\n",
       "    .dataframe thead th {\n",
       "        text-align: right;\n",
       "    }\n",
       "</style>\n",
       "<table border=\"1\" class=\"dataframe\">\n",
       "  <thead>\n",
       "    <tr style=\"text-align: right;\">\n",
       "      <th></th>\n",
       "      <th>num_lab_procedures</th>\n",
       "      <th>num_procedures</th>\n",
       "      <th>num_medications</th>\n",
       "      <th>number_outpatient</th>\n",
       "      <th>number_emergency</th>\n",
       "      <th>number_inpatient</th>\n",
       "      <th>number_diagnoses</th>\n",
       "      <th>time_in_hospital</th>\n",
       "      <th>ind__Asian</th>\n",
       "      <th>ind__Caucasian</th>\n",
       "      <th>...</th>\n",
       "      <th>ind__Unclassified</th>\n",
       "      <th>ind__Urin stone</th>\n",
       "      <th>ind__Uterus cancr</th>\n",
       "      <th>ind__Varicose vn</th>\n",
       "      <th>ind__Viral infect</th>\n",
       "      <th>ind__Wht blood dx</th>\n",
       "      <th>ind__chf;nonhp</th>\n",
       "      <th>ind__gu cong anom</th>\n",
       "      <th>ind__nan_y</th>\n",
       "      <th>readmission</th>\n",
       "    </tr>\n",
       "  </thead>\n",
       "  <tbody>\n",
       "    <tr>\n",
       "      <th>0</th>\n",
       "      <td>41</td>\n",
       "      <td>0</td>\n",
       "      <td>1</td>\n",
       "      <td>0</td>\n",
       "      <td>0</td>\n",
       "      <td>0</td>\n",
       "      <td>1</td>\n",
       "      <td>1</td>\n",
       "      <td>0</td>\n",
       "      <td>1</td>\n",
       "      <td>...</td>\n",
       "      <td>0</td>\n",
       "      <td>0</td>\n",
       "      <td>0</td>\n",
       "      <td>0</td>\n",
       "      <td>0</td>\n",
       "      <td>0</td>\n",
       "      <td>0</td>\n",
       "      <td>0</td>\n",
       "      <td>2</td>\n",
       "      <td>0</td>\n",
       "    </tr>\n",
       "    <tr>\n",
       "      <th>1</th>\n",
       "      <td>59</td>\n",
       "      <td>0</td>\n",
       "      <td>18</td>\n",
       "      <td>0</td>\n",
       "      <td>0</td>\n",
       "      <td>0</td>\n",
       "      <td>9</td>\n",
       "      <td>3</td>\n",
       "      <td>0</td>\n",
       "      <td>1</td>\n",
       "      <td>...</td>\n",
       "      <td>0</td>\n",
       "      <td>0</td>\n",
       "      <td>0</td>\n",
       "      <td>0</td>\n",
       "      <td>0</td>\n",
       "      <td>0</td>\n",
       "      <td>0</td>\n",
       "      <td>0</td>\n",
       "      <td>0</td>\n",
       "      <td>1</td>\n",
       "    </tr>\n",
       "    <tr>\n",
       "      <th>2</th>\n",
       "      <td>11</td>\n",
       "      <td>5</td>\n",
       "      <td>13</td>\n",
       "      <td>2</td>\n",
       "      <td>0</td>\n",
       "      <td>1</td>\n",
       "      <td>6</td>\n",
       "      <td>2</td>\n",
       "      <td>0</td>\n",
       "      <td>0</td>\n",
       "      <td>...</td>\n",
       "      <td>0</td>\n",
       "      <td>0</td>\n",
       "      <td>0</td>\n",
       "      <td>0</td>\n",
       "      <td>0</td>\n",
       "      <td>0</td>\n",
       "      <td>0</td>\n",
       "      <td>0</td>\n",
       "      <td>2</td>\n",
       "      <td>0</td>\n",
       "    </tr>\n",
       "    <tr>\n",
       "      <th>3</th>\n",
       "      <td>44</td>\n",
       "      <td>1</td>\n",
       "      <td>16</td>\n",
       "      <td>0</td>\n",
       "      <td>0</td>\n",
       "      <td>0</td>\n",
       "      <td>7</td>\n",
       "      <td>2</td>\n",
       "      <td>0</td>\n",
       "      <td>1</td>\n",
       "      <td>...</td>\n",
       "      <td>0</td>\n",
       "      <td>0</td>\n",
       "      <td>0</td>\n",
       "      <td>0</td>\n",
       "      <td>0</td>\n",
       "      <td>0</td>\n",
       "      <td>0</td>\n",
       "      <td>0</td>\n",
       "      <td>0</td>\n",
       "      <td>0</td>\n",
       "    </tr>\n",
       "    <tr>\n",
       "      <th>4</th>\n",
       "      <td>51</td>\n",
       "      <td>0</td>\n",
       "      <td>8</td>\n",
       "      <td>0</td>\n",
       "      <td>0</td>\n",
       "      <td>0</td>\n",
       "      <td>5</td>\n",
       "      <td>1</td>\n",
       "      <td>0</td>\n",
       "      <td>1</td>\n",
       "      <td>...</td>\n",
       "      <td>0</td>\n",
       "      <td>0</td>\n",
       "      <td>0</td>\n",
       "      <td>0</td>\n",
       "      <td>0</td>\n",
       "      <td>0</td>\n",
       "      <td>0</td>\n",
       "      <td>0</td>\n",
       "      <td>1</td>\n",
       "      <td>0</td>\n",
       "    </tr>\n",
       "  </tbody>\n",
       "</table>\n",
       "<p>5 rows × 266 columns</p>\n",
       "</div>"
      ],
      "text/plain": [
       "   num_lab_procedures  num_procedures  num_medications  number_outpatient  \\\n",
       "0                  41               0                1                  0   \n",
       "1                  59               0               18                  0   \n",
       "2                  11               5               13                  2   \n",
       "3                  44               1               16                  0   \n",
       "4                  51               0                8                  0   \n",
       "\n",
       "   number_emergency  number_inpatient  number_diagnoses  time_in_hospital  \\\n",
       "0                 0                 0                 1                 1   \n",
       "1                 0                 0                 9                 3   \n",
       "2                 0                 1                 6                 2   \n",
       "3                 0                 0                 7                 2   \n",
       "4                 0                 0                 5                 1   \n",
       "\n",
       "   ind__Asian  ind__Caucasian  ...  ind__Unclassified  ind__Urin stone  \\\n",
       "0           0               1  ...                  0                0   \n",
       "1           0               1  ...                  0                0   \n",
       "2           0               0  ...                  0                0   \n",
       "3           0               1  ...                  0                0   \n",
       "4           0               1  ...                  0                0   \n",
       "\n",
       "   ind__Uterus cancr  ind__Varicose vn  ind__Viral infect  ind__Wht blood dx  \\\n",
       "0                  0                 0                  0                  0   \n",
       "1                  0                 0                  0                  0   \n",
       "2                  0                 0                  0                  0   \n",
       "3                  0                 0                  0                  0   \n",
       "4                  0                 0                  0                  0   \n",
       "\n",
       "   ind__chf;nonhp  ind__gu cong anom  ind__nan_y  readmission  \n",
       "0               0                  0           2            0  \n",
       "1               0                  0           0            1  \n",
       "2               0                  0           2            0  \n",
       "3               0                  0           0            0  \n",
       "4               0                  0           1            0  \n",
       "\n",
       "[5 rows x 266 columns]"
      ]
     },
     "execution_count": 3,
     "metadata": {},
     "output_type": "execute_result"
    }
   ],
   "source": [
    "model_matrix.head()"
   ]
  },
  {
   "cell_type": "markdown",
   "metadata": {},
   "source": [
    "## Recap\n"
   ]
  },
  {
   "cell_type": "markdown",
   "metadata": {},
   "source": [
    "So far, we've described the general problem of supervised learning, where we have data $x$ and label $y$ and we want to model f(x) -> y.\n",
    "\n",
    "If y is a continuous variable, this is known as regression, and if y is discrete, then the problem is known as classification.\n",
    "\n",
    "In addition, we've seen that the general structure of these problems is to define the form of the model with some parameters, and then to estimate the best values of those parameters given a loss function."
   ]
  },
  {
   "cell_type": "markdown",
   "metadata": {},
   "source": [
    "So if we have formulated a supervised learning problem, and we have the data in a *tidy* format (1 observation per row, 1 variable per column), we can begin to fit the model."
   ]
  },
  {
   "cell_type": "markdown",
   "metadata": {},
   "source": [
    "For example, let's say that we have the following ridge regression example:"
   ]
  },
  {
   "cell_type": "markdown",
   "metadata": {},
   "source": [
    "$$ \\hat{\\beta} = \\underset{\\beta}{\\arg\\min} \\sum_{i=1}^{n}(y_i - \\beta_0 - \\sum_{j=1}^{p}x_{ij}\\beta_j)^2 + \\lambda\\sum_{j=1}^{p}\\beta_j^2$$"
   ]
  },
  {
   "cell_type": "markdown",
   "metadata": {},
   "source": [
    "Our goal here is to estimate the *parameters* of the model, which are the $\\beta$ values. We have seen that we can fit these types of models using gradient descent, although there are other algorithms which exist to solve these types of problems. "
   ]
  },
  {
   "cell_type": "markdown",
   "metadata": {},
   "source": [
    "However, there are a few different approaches even once you have all of this information. Namely:\n",
    "  * How do you estimate your test error? \n",
    "  * How do you structure your training and testing splits? \n",
    "  * How do you pick a value for $\\lambda$?"
   ]
  },
  {
   "cell_type": "markdown",
   "metadata": {},
   "source": [
    "### Hyperparameters"
   ]
  },
  {
   "cell_type": "markdown",
   "metadata": {},
   "source": [
    "A **hyperparameter** is a parameter that is set before any model-fitting actually occurs. In the ridge regression and LASSO setting, $\\lambda$ or the regularization parameters, would be a hyperparameter.\n",
    "\n",
    "This means, *prior* to using gradient descent or some other method for estimating the $\\beta$ coefficients, we must first choose a value of $\\lambda$. In practice, hyperparameters do not even have to be explicit parameters in the model. For example, we can think of a hyperparameter as being whether or not we choose to standardize the covariates before starting the fitting procedure. \n"
   ]
  },
  {
   "cell_type": "markdown",
   "metadata": {},
   "source": [
    "### 2 Simultaneous problems"
   ]
  },
  {
   "cell_type": "markdown",
   "metadata": {},
   "source": [
    "1. Estimate $\\beta$ coefficients.\n",
    "2. Select a good value of $\\lambda$."
   ]
  },
  {
   "cell_type": "markdown",
   "metadata": {},
   "source": [
    "# Goal "
   ]
  },
  {
   "cell_type": "markdown",
   "metadata": {},
   "source": [
    "Stated generally, the goal of splitting your data into training/test splits or doing cross-validation, etc. is:\n",
    "\n",
    " * Finding the right hyperparameter settings for your models\n",
    " * Estimating your overall performance (out of sample)\n",
    "\n",
    "All of the different variations of splitting your data are an attempt to accomplish these two goals. However, due to computational reasons / sample sizes, the way you get there might be different"
   ]
  },
  {
   "cell_type": "markdown",
   "metadata": {},
   "source": [
    "## Train/Test Splits"
   ]
  },
  {
   "cell_type": "markdown",
   "metadata": {},
   "source": [
    "The most common approach in machine learning to estimating how well your model works is to use the Training and Test set procedure.\n",
    "\n",
    "Often, this is done the following way:\n",
    "\n",
    "  1. Randomly select a percentage (usually ~80%) of your dataset, and use those values of training\n",
    "  2. Evaluate the model on the remaining ~20% of the data to test model performance (accuracy, MSE, etc.)\n"
   ]
  },
  {
   "cell_type": "markdown",
   "metadata": {},
   "source": [
    "#### Pros:\n",
    " * easy to implement\n",
    "\n",
    "#### Cons:\n",
    " * the specific examples that are in the training set and testing set may be biased in some way\n",
    " * only use some of the data to fit the model - depending on the size of your data, can overestimate error\n",
    " \n",
    "#### Practical Considerations:\n",
    " * What percentage of data to choose?\n",
    " * How to assess differences in training vs. test?"
   ]
  },
  {
   "cell_type": "markdown",
   "metadata": {},
   "source": [
    "## Cross-Validation"
   ]
  },
  {
   "cell_type": "markdown",
   "metadata": {},
   "source": [
    "Cross-Validation is a technique that addresses some of the downsides of training/test splits. \n",
    "\n",
    "Instead of splitting the data once, cross-validation splits the data many times and averages the error over the splits."
   ]
  },
  {
   "cell_type": "markdown",
   "metadata": {},
   "source": [
    "## k-Fold"
   ]
  },
  {
   "cell_type": "markdown",
   "metadata": {},
   "source": [
    "The most common form of cross-validation is known as *k-fold* validation. In *k-fold* cross-validation, the data is split into $k$ evenly-sized groups, where $k$ is usually 5 or 10. The general idea is to fit the model on k-1 groups, and then test on the last group. Then, you cycle the groups and average the error over the groups (folds)."
   ]
  },
  {
   "cell_type": "markdown",
   "metadata": {},
   "source": [
    "The Cross-Validated error is estimated by:"
   ]
  },
  {
   "cell_type": "markdown",
   "metadata": {},
   "source": [
    "$$ CV_{(k)} = \\frac{1}{k}\\sum_{i=1}^{k}MSE_i $$"
   ]
  },
  {
   "cell_type": "markdown",
   "metadata": {},
   "source": [
    "![](./assets/kfold.png)"
   ]
  },
  {
   "cell_type": "markdown",
   "metadata": {},
   "source": [
    "## LOOCV"
   ]
  },
  {
   "cell_type": "markdown",
   "metadata": {},
   "source": [
    "In the extreme case, where the number of folds is equal to the number of data points, this process is known as *leave-one-out* cross-validation. The scheme then looks like this:"
   ]
  },
  {
   "cell_type": "markdown",
   "metadata": {},
   "source": [
    "![](./assets/loocv.png)"
   ]
  },
  {
   "cell_type": "markdown",
   "metadata": {},
   "source": [
    "#### Pros:\n",
    " * Use almost all the data to train the model\n",
    " * Repeated iterations will always result in the same answer\n",
    " \n",
    "#### Cons:\n",
    " * Computationally very expensive"
   ]
  },
  {
   "cell_type": "markdown",
   "metadata": {},
   "source": [
    "Also a bias-variance tradeoff! Although LOOCV has lower bias, it has a much higher variance. This is due to the fact that each of the models are much more correlated with one another (they only differ by 1 data point), and variances of samples of highly correlated variables are generally higher than those that are less correlated.\n",
    "\n",
    "[Explanation](https://stats.stackexchange.com/a/223461)"
   ]
  },
  {
   "cell_type": "markdown",
   "metadata": {},
   "source": [
    "# What about hyperparameters?"
   ]
  },
  {
   "cell_type": "markdown",
   "metadata": {},
   "source": [
    "If we used a training/test split, and we wanted to vary $\\lambda$ in a LASSO setting, One procedure could be testing different values of $\\lambda$ fit on the training set and evaluated on the test set."
   ]
  },
  {
   "cell_type": "markdown",
   "metadata": {},
   "source": [
    "## Overfitting"
   ]
  },
  {
   "cell_type": "markdown",
   "metadata": {},
   "source": [
    "The problem with this method is that you may overfit to your test set. The more times you evaluate a model on the same test set, the higher the chance that you obtain a good result by chance. This is analogous to the multiple comparison problem in hypothesis testing.\n",
    "\n",
    "Case study: [Kaggle](http://gregpark.io/blog/Kaggle-Psychopathy-Postmortem/)"
   ]
  },
  {
   "cell_type": "markdown",
   "metadata": {},
   "source": [
    "## Validation Set"
   ]
  },
  {
   "cell_type": "markdown",
   "metadata": {},
   "source": [
    "In this case, is there is enough data, one strategy would be to use a validation set in addition to a testing set.\n",
    "\n",
    "In this procedure, we have 3 splits: a training split, validation split, and test split. \n",
    "\n",
    "The general procedure is as follows:\n",
    "\n",
    " 1. Use the training split and evaluate different values of hyperparameters on the validation split. \n",
    " 2. Whatever the best values of the hyperparameters are, select those and train on the combined training and validation split. \n",
    " 3. Evaluate the performance **once** on the test set\n",
    " \n",
    "In practice, steps 1 and 2 are usually done in a cross-validation setting. This is another purpose of cross-validation"
   ]
  },
  {
   "cell_type": "markdown",
   "metadata": {},
   "source": [
    "In the cross-validation setting, here is the correct procedure: \n",
    "\n",
    " 1. Split your data into a Training set and a Test set\n",
    " 2. Split your Training set into a smaller training set and validation set\n",
    " 3. Evaluate different models on the validation set and record the error\n",
    " 4. Repeat steps 2-4 with different splits of smaller training and validation sets until every data point has been in the validation set once (and only once)\n",
    " 5. Take the parameter values which performed the best (average error/some other metric) and use that to *refit* the model on the entire larger training set\n",
    " 6. Evaluate on the test set \n",
    " \n",
    "Deviations from procedure can be taken depending on factors such as size of the data, computation time, use of the model, etc."
   ]
  },
  {
   "cell_type": "markdown",
   "metadata": {},
   "source": [
    "## Healthcare considerations"
   ]
  },
  {
   "cell_type": "markdown",
   "metadata": {},
   "source": [
    "In healthcare, there are other considerations that may play a part in how to decide on splitting the data"
   ]
  },
  {
   "cell_type": "markdown",
   "metadata": {},
   "source": [
    "#### Generalization over time"
   ]
  },
  {
   "cell_type": "markdown",
   "metadata": {},
   "source": [
    "Oftentimes, if we train data on a particular time period, we want to evaluate how well it works in a different time setting. Research has shown that models trained on one time period often deteriorate over time, either due to shifting populations or other dynamic factors."
   ]
  },
  {
   "cell_type": "markdown",
   "metadata": {},
   "source": [
    "In this setting, it may be useful to consider training and test splits that occur over time. For example, train on 12 months of data and assess performance on subsequent 12 months. Alternatively, you can use a scheme where your splits include more and more data."
   ]
  },
  {
   "cell_type": "markdown",
   "metadata": {},
   "source": [
    "![](./assets/time-based-crossval.png)"
   ]
  },
  {
   "cell_type": "markdown",
   "metadata": {},
   "source": [
    "#### Generalization by site"
   ]
  },
  {
   "cell_type": "markdown",
   "metadata": {},
   "source": [
    "Models trained on one population often do not generalize to other populations. It is critical to validate a model on other patient populations, which is a standard in clinical care. In these settings, it may make sense to have a training set of one patient population and then test on another population.\n",
    "\n",
    "This is also an area of active research"
   ]
  },
  {
   "cell_type": "markdown",
   "metadata": {},
   "source": [
    "## Deployment considerations"
   ]
  },
  {
   "cell_type": "markdown",
   "metadata": {},
   "source": [
    "Deploying models into production has a whole host of issues associated with it. The most important consideration is that the data that you are serving the model on is similar to the data that you trained on.\n",
    "\n",
    "In addition, data that is available at serve time should determine the features that you use in your model. If data will only be available after the model needs to be run, it does not make sense to include in the model.\n",
    "\n",
    "We will cover common problems with model deployment in a future lecture"
   ]
  },
  {
   "cell_type": "markdown",
   "metadata": {},
   "source": [
    "## SKlearn, LASSO, and Cross-Validation"
   ]
  },
  {
   "cell_type": "markdown",
   "metadata": {},
   "source": [
    "## In-class Exercise"
   ]
  },
  {
   "cell_type": "markdown",
   "metadata": {},
   "source": [
    "In this exercise, we will fit our data using the train/test method, the train/test/validation method, and the cross-validation with test method to compare our results. We will be using the model dataset provided and try to predict the last column: `readmission`"
   ]
  },
  {
   "cell_type": "code",
   "execution_count": 4,
   "metadata": {
    "scrolled": false
   },
   "outputs": [
    {
     "data": {
      "text/html": [
       "<div>\n",
       "<style scoped>\n",
       "    .dataframe tbody tr th:only-of-type {\n",
       "        vertical-align: middle;\n",
       "    }\n",
       "\n",
       "    .dataframe tbody tr th {\n",
       "        vertical-align: top;\n",
       "    }\n",
       "\n",
       "    .dataframe thead th {\n",
       "        text-align: right;\n",
       "    }\n",
       "</style>\n",
       "<table border=\"1\" class=\"dataframe\">\n",
       "  <thead>\n",
       "    <tr style=\"text-align: right;\">\n",
       "      <th></th>\n",
       "      <th>num_lab_procedures</th>\n",
       "      <th>num_procedures</th>\n",
       "      <th>num_medications</th>\n",
       "      <th>number_outpatient</th>\n",
       "      <th>number_emergency</th>\n",
       "      <th>number_inpatient</th>\n",
       "      <th>number_diagnoses</th>\n",
       "      <th>time_in_hospital</th>\n",
       "      <th>ind__Asian</th>\n",
       "      <th>ind__Caucasian</th>\n",
       "      <th>...</th>\n",
       "      <th>ind__Unclassified</th>\n",
       "      <th>ind__Urin stone</th>\n",
       "      <th>ind__Uterus cancr</th>\n",
       "      <th>ind__Varicose vn</th>\n",
       "      <th>ind__Viral infect</th>\n",
       "      <th>ind__Wht blood dx</th>\n",
       "      <th>ind__chf;nonhp</th>\n",
       "      <th>ind__gu cong anom</th>\n",
       "      <th>ind__nan_y</th>\n",
       "      <th>readmission</th>\n",
       "    </tr>\n",
       "  </thead>\n",
       "  <tbody>\n",
       "    <tr>\n",
       "      <th>0</th>\n",
       "      <td>41</td>\n",
       "      <td>0</td>\n",
       "      <td>1</td>\n",
       "      <td>0</td>\n",
       "      <td>0</td>\n",
       "      <td>0</td>\n",
       "      <td>1</td>\n",
       "      <td>1</td>\n",
       "      <td>0</td>\n",
       "      <td>1</td>\n",
       "      <td>...</td>\n",
       "      <td>0</td>\n",
       "      <td>0</td>\n",
       "      <td>0</td>\n",
       "      <td>0</td>\n",
       "      <td>0</td>\n",
       "      <td>0</td>\n",
       "      <td>0</td>\n",
       "      <td>0</td>\n",
       "      <td>2</td>\n",
       "      <td>0</td>\n",
       "    </tr>\n",
       "    <tr>\n",
       "      <th>1</th>\n",
       "      <td>59</td>\n",
       "      <td>0</td>\n",
       "      <td>18</td>\n",
       "      <td>0</td>\n",
       "      <td>0</td>\n",
       "      <td>0</td>\n",
       "      <td>9</td>\n",
       "      <td>3</td>\n",
       "      <td>0</td>\n",
       "      <td>1</td>\n",
       "      <td>...</td>\n",
       "      <td>0</td>\n",
       "      <td>0</td>\n",
       "      <td>0</td>\n",
       "      <td>0</td>\n",
       "      <td>0</td>\n",
       "      <td>0</td>\n",
       "      <td>0</td>\n",
       "      <td>0</td>\n",
       "      <td>0</td>\n",
       "      <td>1</td>\n",
       "    </tr>\n",
       "    <tr>\n",
       "      <th>2</th>\n",
       "      <td>11</td>\n",
       "      <td>5</td>\n",
       "      <td>13</td>\n",
       "      <td>2</td>\n",
       "      <td>0</td>\n",
       "      <td>1</td>\n",
       "      <td>6</td>\n",
       "      <td>2</td>\n",
       "      <td>0</td>\n",
       "      <td>0</td>\n",
       "      <td>...</td>\n",
       "      <td>0</td>\n",
       "      <td>0</td>\n",
       "      <td>0</td>\n",
       "      <td>0</td>\n",
       "      <td>0</td>\n",
       "      <td>0</td>\n",
       "      <td>0</td>\n",
       "      <td>0</td>\n",
       "      <td>2</td>\n",
       "      <td>0</td>\n",
       "    </tr>\n",
       "    <tr>\n",
       "      <th>3</th>\n",
       "      <td>44</td>\n",
       "      <td>1</td>\n",
       "      <td>16</td>\n",
       "      <td>0</td>\n",
       "      <td>0</td>\n",
       "      <td>0</td>\n",
       "      <td>7</td>\n",
       "      <td>2</td>\n",
       "      <td>0</td>\n",
       "      <td>1</td>\n",
       "      <td>...</td>\n",
       "      <td>0</td>\n",
       "      <td>0</td>\n",
       "      <td>0</td>\n",
       "      <td>0</td>\n",
       "      <td>0</td>\n",
       "      <td>0</td>\n",
       "      <td>0</td>\n",
       "      <td>0</td>\n",
       "      <td>0</td>\n",
       "      <td>0</td>\n",
       "    </tr>\n",
       "    <tr>\n",
       "      <th>4</th>\n",
       "      <td>51</td>\n",
       "      <td>0</td>\n",
       "      <td>8</td>\n",
       "      <td>0</td>\n",
       "      <td>0</td>\n",
       "      <td>0</td>\n",
       "      <td>5</td>\n",
       "      <td>1</td>\n",
       "      <td>0</td>\n",
       "      <td>1</td>\n",
       "      <td>...</td>\n",
       "      <td>0</td>\n",
       "      <td>0</td>\n",
       "      <td>0</td>\n",
       "      <td>0</td>\n",
       "      <td>0</td>\n",
       "      <td>0</td>\n",
       "      <td>0</td>\n",
       "      <td>0</td>\n",
       "      <td>1</td>\n",
       "      <td>0</td>\n",
       "    </tr>\n",
       "  </tbody>\n",
       "</table>\n",
       "<p>5 rows × 266 columns</p>\n",
       "</div>"
      ],
      "text/plain": [
       "   num_lab_procedures  num_procedures  num_medications  number_outpatient  \\\n",
       "0                  41               0                1                  0   \n",
       "1                  59               0               18                  0   \n",
       "2                  11               5               13                  2   \n",
       "3                  44               1               16                  0   \n",
       "4                  51               0                8                  0   \n",
       "\n",
       "   number_emergency  number_inpatient  number_diagnoses  time_in_hospital  \\\n",
       "0                 0                 0                 1                 1   \n",
       "1                 0                 0                 9                 3   \n",
       "2                 0                 1                 6                 2   \n",
       "3                 0                 0                 7                 2   \n",
       "4                 0                 0                 5                 1   \n",
       "\n",
       "   ind__Asian  ind__Caucasian  ...  ind__Unclassified  ind__Urin stone  \\\n",
       "0           0               1  ...                  0                0   \n",
       "1           0               1  ...                  0                0   \n",
       "2           0               0  ...                  0                0   \n",
       "3           0               1  ...                  0                0   \n",
       "4           0               1  ...                  0                0   \n",
       "\n",
       "   ind__Uterus cancr  ind__Varicose vn  ind__Viral infect  ind__Wht blood dx  \\\n",
       "0                  0                 0                  0                  0   \n",
       "1                  0                 0                  0                  0   \n",
       "2                  0                 0                  0                  0   \n",
       "3                  0                 0                  0                  0   \n",
       "4                  0                 0                  0                  0   \n",
       "\n",
       "   ind__chf;nonhp  ind__gu cong anom  ind__nan_y  readmission  \n",
       "0               0                  0           2            0  \n",
       "1               0                  0           0            1  \n",
       "2               0                  0           2            0  \n",
       "3               0                  0           0            0  \n",
       "4               0                  0           1            0  \n",
       "\n",
       "[5 rows x 266 columns]"
      ]
     },
     "execution_count": 4,
     "metadata": {},
     "output_type": "execute_result"
    }
   ],
   "source": [
    "model_matrix.head()"
   ]
  },
  {
   "cell_type": "markdown",
   "metadata": {},
   "source": [
    "### Fit a logistic regression model"
   ]
  },
  {
   "cell_type": "markdown",
   "metadata": {},
   "source": [
    "The goal here will be to fit a *l2-penalized* logistic regression (since our outcome is binary). Specifically, we want to find the right value of $\\lambda$ that minimizes the test error. "
   ]
  },
  {
   "cell_type": "markdown",
   "metadata": {},
   "source": [
    "$$ loss = - \\frac{1}{N}(\\sum_{i=1}^{N}y^{(i)} \\log \\sigma(\\boldsymbol{\\beta}^T\\textbf{x}^{(i)}) + (1 - y^{(i)}) \\log (1 - \\sigma(\\boldsymbol{\\beta}^T\\textbf{x}^{(i)}))) + \\lambda \\sum_{j}^{P}\\beta_j^2$$"
   ]
  },
  {
   "cell_type": "markdown",
   "metadata": {},
   "source": [
    "### Train/test split"
   ]
  },
  {
   "cell_type": "markdown",
   "metadata": {},
   "source": [
    "Randomly select 20% of the rows to use as the test set. Split your data into the following variables:\n",
    "\n",
    " * `X_train`: Train Design matrix without the readmission label\n",
    " * `X_test`: Test Design matrix without the readmission label\n",
    " * `y_train`: Train label (same length as number of rows of `X_train`\n",
    " * `y_test`: Test label (same length as number of rows of `X_test`\n",
    " \n",
    "Do this by randomly choosing row numbers. Do not use sklearn's built-in `train_test_split` method. You may want to use the `np.random.choice`, `np.random.permutation`, `math.floor` or other functions. "
   ]
  },
  {
   "cell_type": "code",
   "execution_count": 6,
   "metadata": {},
   "outputs": [],
   "source": [
    "import numpy as np"
   ]
  },
  {
   "cell_type": "code",
   "execution_count": 7,
   "metadata": {},
   "outputs": [],
   "source": [
    "?np.random.permutation"
   ]
  },
  {
   "cell_type": "code",
   "execution_count": 8,
   "metadata": {},
   "outputs": [],
   "source": [
    "model_matrix = model_matrix.values"
   ]
  },
  {
   "cell_type": "code",
   "execution_count": 9,
   "metadata": {},
   "outputs": [],
   "source": [
    "import numpy as np\n",
    "import math"
   ]
  },
  {
   "cell_type": "code",
   "execution_count": 10,
   "metadata": {},
   "outputs": [],
   "source": [
    "random_indices = np.random.permutation(range(model_matrix.shape[0])) # Permute from 0 to number of rows"
   ]
  },
  {
   "cell_type": "code",
   "execution_count": 13,
   "metadata": {},
   "outputs": [
    {
     "data": {
      "text/plain": [
       "array([  2345,   5205,   5405, ..., 101404,  98721,  88053])"
      ]
     },
     "execution_count": 13,
     "metadata": {},
     "output_type": "execute_result"
    }
   ],
   "source": [
    "random_indices"
   ]
  },
  {
   "cell_type": "code",
   "execution_count": 11,
   "metadata": {},
   "outputs": [],
   "source": [
    "index_80_pct = math.floor(.8 * model_matrix.shape[0])"
   ]
  },
  {
   "cell_type": "code",
   "execution_count": 14,
   "metadata": {},
   "outputs": [
    {
     "data": {
      "text/plain": [
       "81412"
      ]
     },
     "execution_count": 14,
     "metadata": {},
     "output_type": "execute_result"
    }
   ],
   "source": [
    "index_80_pct"
   ]
  },
  {
   "cell_type": "code",
   "execution_count": 15,
   "metadata": {},
   "outputs": [
    {
     "name": "stdout",
     "output_type": "stream",
     "text": [
      "X_train size: (81412, 265)\n",
      "X_test size: (20354, 265)\n",
      "y_train size: (81412,)\n",
      "y_test size: (20354,)\n"
     ]
    }
   ],
   "source": [
    "X_train = model_matrix[random_indices[:index_80_pct], :-1] # Everything except last column\n",
    "print('X_train size: {}'.format(X_train.shape))\n",
    "\n",
    "X_test = model_matrix[random_indices[index_80_pct:], :-1]\n",
    "print('X_test size: {}'.format(X_test.shape))\n",
    "\n",
    "y_train = model_matrix[random_indices[:index_80_pct], -1] # Last column\n",
    "print('y_train size: {}'.format(y_train.shape))\n",
    "\n",
    "y_test = model_matrix[random_indices[index_80_pct:], -1]\n",
    "print('y_test size: {}'.format(y_test.shape))"
   ]
  },
  {
   "cell_type": "code",
   "execution_count": 18,
   "metadata": {},
   "outputs": [],
   "source": [
    "from sklearn.preprocessing import StandardScaler"
   ]
  },
  {
   "cell_type": "code",
   "execution_count": 19,
   "metadata": {},
   "outputs": [],
   "source": [
    "scaler = StandardScaler()"
   ]
  },
  {
   "cell_type": "code",
   "execution_count": 20,
   "metadata": {},
   "outputs": [
    {
     "data": {
      "text/plain": [
       "StandardScaler(copy=True, with_mean=True, with_std=True)"
      ]
     },
     "execution_count": 20,
     "metadata": {},
     "output_type": "execute_result"
    }
   ],
   "source": [
    "scaler.fit(X_train)"
   ]
  },
  {
   "cell_type": "code",
   "execution_count": 23,
   "metadata": {},
   "outputs": [],
   "source": [
    "X_train = scaler.transform(X_train)\n",
    "X_test = scaler.transform(X_test)"
   ]
  },
  {
   "cell_type": "markdown",
   "metadata": {},
   "source": [
    "#### Fit the model.. note how it is difficult to choose the right values of lambda (or 1/C, in sklearn)"
   ]
  },
  {
   "cell_type": "markdown",
   "metadata": {},
   "source": [
    "> class sklearn.linear_model.LogisticRegression(penalty='l2', dual=False, tol=0.0001, C=1.0, fit_intercept=True, intercept_scaling=1, class_weight=None, random_state=None, solver='lbfgs', max_iter=100, multi_class='auto', verbose=0, warm_start=False, n_jobs=None, l1_ratio=None)"
   ]
  },
  {
   "cell_type": "code",
   "execution_count": 16,
   "metadata": {},
   "outputs": [],
   "source": [
    "from sklearn.linear_model import LogisticRegression"
   ]
  },
  {
   "cell_type": "code",
   "execution_count": 29,
   "metadata": {
    "scrolled": true
   },
   "outputs": [],
   "source": [
    "lr = LogisticRegression(penalty='l2', C=1)\n",
    "# Fit the model\n",
    "lr.fit(X_train, y_train)\n",
    "predictions = lr.predict_proba(X_test)"
   ]
  },
  {
   "cell_type": "code",
   "execution_count": 30,
   "metadata": {},
   "outputs": [],
   "source": [
    "from sklearn.metrics import log_loss, roc_auc_score"
   ]
  },
  {
   "cell_type": "code",
   "execution_count": 31,
   "metadata": {
    "scrolled": false
   },
   "outputs": [
    {
     "data": {
      "text/plain": [
       "0.6312047188960899"
      ]
     },
     "execution_count": 31,
     "metadata": {},
     "output_type": "execute_result"
    }
   ],
   "source": [
    "log_loss(y_test, predictions[:, 1])"
   ]
  },
  {
   "cell_type": "code",
   "execution_count": 32,
   "metadata": {
    "scrolled": false
   },
   "outputs": [
    {
     "data": {
      "text/plain": [
       "0.6851888828731367"
      ]
     },
     "execution_count": 32,
     "metadata": {},
     "output_type": "execute_result"
    }
   ],
   "source": [
    "roc_auc_score(y_test, predictions[:, 1])"
   ]
  },
  {
   "cell_type": "markdown",
   "metadata": {},
   "source": [
    "### Train/test/validation "
   ]
  },
  {
   "cell_type": "markdown",
   "metadata": {},
   "source": [
    "Using the same logic as above, create a train test and validation split (70%/10%/20%). Now, find the best value of C based on the `log_loss` (lower is better) or `roc_auc_score` (higher is better) on the validation split, and then use that model to fit onto the test set. "
   ]
  },
  {
   "cell_type": "code",
   "execution_count": 33,
   "metadata": {},
   "outputs": [],
   "source": [
    "index_70_pct = math.floor(.7 * model_matrix.shape[0])"
   ]
  },
  {
   "cell_type": "code",
   "execution_count": 40,
   "metadata": {},
   "outputs": [
    {
     "name": "stdout",
     "output_type": "stream",
     "text": [
      "X_train size: (71236, 265)\n",
      "X_valid size: (10176, 265)\n",
      "X_test size: (20354, 265)\n",
      "y_train size: (71236,)\n",
      "y_valid size: (10176,)\n",
      "y_test size: (20354,)\n"
     ]
    }
   ],
   "source": [
    "X_train = model_matrix[random_indices[:index_70_pct], :-1]\n",
    "print('X_train size: {}'.format(X_train.shape))\n",
    "\n",
    "X_valid = model_matrix[random_indices[index_70_pct:index_80_pct], :-1]\n",
    "print('X_valid size: {}'.format(X_valid.shape))\n",
    "\n",
    "X_test = model_matrix[random_indices[index_80_pct:], :-1]\n",
    "print('X_test size: {}'.format(X_test.shape))\n",
    "\n",
    "y_train = model_matrix[random_indices[:index_70_pct], -1]\n",
    "print('y_train size: {}'.format(y_train.shape))\n",
    "\n",
    "y_valid = model_matrix[random_indices[index_70_pct:index_80_pct], -1]\n",
    "print('y_valid size: {}'.format(y_valid.shape))\n",
    "\n",
    "y_test = model_matrix[random_indices[index_80_pct:], -1]\n",
    "print('y_test size: {}'.format(y_test.shape))\n"
   ]
  },
  {
   "cell_type": "code",
   "execution_count": 37,
   "metadata": {},
   "outputs": [],
   "source": [
    "scaler2 = StandardScaler()\n",
    "scaler2.fit(X_train)\n",
    "X_train = scaler2.transform(X_train)\n",
    "X_valid = scaler2.transform(X_valid)\n",
    "X_test = scaler2.transform(X_test)"
   ]
  },
  {
   "cell_type": "code",
   "execution_count": 36,
   "metadata": {},
   "outputs": [],
   "source": [
    "C_list = [0.001, 0.01, 0.1, 1, 10]"
   ]
  },
  {
   "cell_type": "code",
   "execution_count": 38,
   "metadata": {},
   "outputs": [
    {
     "name": "stdout",
     "output_type": "stream",
     "text": [
      "Now fitting LR with c of 0.001\n",
      "Now fitting LR with c of 0.01\n",
      "Now fitting LR with c of 0.1\n",
      "Now fitting LR with c of 1\n",
      "Now fitting LR with c of 10\n"
     ]
    }
   ],
   "source": [
    "C_dict = {}\n",
    "for c in C_list:\n",
    "    print('Now fitting LR with c of {}'.format(c))\n",
    "    # Fit the model using the training set and test on the validation\n",
    "    lr = LogisticRegression(penalty='l2', C=c)\n",
    "    lr.fit(X_train, y_train)\n",
    "    predictions = lr.predict_proba(X_valid)[:, 1]\n",
    "    # Add a key to the dictionary with the value of C that has the log loss\n",
    "    C_dict[c] = log_loss(y_valid, predictions)\n"
   ]
  },
  {
   "cell_type": "code",
   "execution_count": 39,
   "metadata": {},
   "outputs": [
    {
     "data": {
      "text/plain": [
       "{0.001: 0.6344524400060003,\n",
       " 0.01: 0.6341242532798634,\n",
       " 0.1: 0.6344404961231679,\n",
       " 1: 0.634821776079266,\n",
       " 10: 0.6352830280191281}"
      ]
     },
     "execution_count": 39,
     "metadata": {},
     "output_type": "execute_result"
    }
   ],
   "source": [
    "C_dict"
   ]
  },
  {
   "cell_type": "code",
   "execution_count": 48,
   "metadata": {},
   "outputs": [
    {
     "name": "stdout",
     "output_type": "stream",
     "text": [
      "X_train size: (71236, 265)\n",
      "X_valid size: (10176, 265)\n",
      "X_test size: (20354, 265)\n",
      "y_train size: (71236,)\n",
      "y_valid size: (10176,)\n",
      "y_test size: (20354,)\n"
     ]
    }
   ],
   "source": [
    "## Refit the model with training and validation\n",
    "X_train = model_matrix[random_indices[:index_70_pct], :-1]\n",
    "print('X_train size: {}'.format(X_train.shape))\n",
    "\n",
    "X_valid = model_matrix[random_indices[index_70_pct:index_80_pct], :-1]\n",
    "print('X_valid size: {}'.format(X_valid.shape))\n",
    "\n",
    "X_test = model_matrix[random_indices[index_80_pct:], :-1]\n",
    "print('X_test size: {}'.format(X_test.shape))\n",
    "\n",
    "y_train = model_matrix[random_indices[:index_70_pct], -1]\n",
    "print('y_train size: {}'.format(y_train.shape))\n",
    "\n",
    "y_valid = model_matrix[random_indices[index_70_pct:index_80_pct], -1]\n",
    "print('y_valid size: {}'.format(y_valid.shape))\n",
    "\n",
    "y_test = model_matrix[random_indices[index_80_pct:], -1]\n",
    "print('y_test size: {}'.format(y_test.shape))\n"
   ]
  },
  {
   "cell_type": "code",
   "execution_count": 49,
   "metadata": {},
   "outputs": [],
   "source": [
    "# Combine the Training set and Validation\n",
    "\n",
    "X_train = np.vstack((X_train, X_valid))\n",
    "y_train = np.concatenate((y_train, y_valid))"
   ]
  },
  {
   "cell_type": "code",
   "execution_count": 50,
   "metadata": {},
   "outputs": [
    {
     "data": {
      "text/plain": [
       "(81412, 265)"
      ]
     },
     "execution_count": 50,
     "metadata": {},
     "output_type": "execute_result"
    }
   ],
   "source": [
    "X_train.shape"
   ]
  },
  {
   "cell_type": "code",
   "execution_count": 51,
   "metadata": {},
   "outputs": [
    {
     "data": {
      "text/plain": [
       "(81412,)"
      ]
     },
     "execution_count": 51,
     "metadata": {},
     "output_type": "execute_result"
    }
   ],
   "source": [
    "y_train.shape"
   ]
  },
  {
   "cell_type": "code",
   "execution_count": 52,
   "metadata": {},
   "outputs": [],
   "source": [
    "scaler3 = StandardScaler()\n",
    "scaler3.fit(X_train)\n",
    "X_train = scaler3.transform(X_train)\n",
    "X_test = scaler3.transform(X_test)"
   ]
  },
  {
   "cell_type": "code",
   "execution_count": 53,
   "metadata": {},
   "outputs": [],
   "source": [
    "lr = LogisticRegression(penalty='l2', C=0.01)\n",
    "lr.fit(X_train, y_train)\n",
    "predictions = lr.predict_proba(X_test)[:, 1]"
   ]
  },
  {
   "cell_type": "code",
   "execution_count": 54,
   "metadata": {},
   "outputs": [
    {
     "data": {
      "text/plain": [
       "0.6313067149292366"
      ]
     },
     "execution_count": 54,
     "metadata": {},
     "output_type": "execute_result"
    }
   ],
   "source": [
    "log_loss(y_test, predictions)"
   ]
  },
  {
   "cell_type": "markdown",
   "metadata": {},
   "source": [
    "### Cross-validation "
   ]
  },
  {
   "cell_type": "markdown",
   "metadata": {},
   "source": [
    "Now, apply the same procedure, but instead of just having 1 validation set, write a function that splits the non-test set indices into *k* separate folds. Run the model in *each* fold, for *each* value of C. Then, pick the best model, *refit* on the entire training set (non-test), and evaluate on the final test set."
   ]
  }
 ],
 "metadata": {
  "kernelspec": {
   "display_name": "Python 3",
   "language": "python",
   "name": "python3"
  },
  "language_info": {
   "codemirror_mode": {
    "name": "ipython",
    "version": 3
   },
   "file_extension": ".py",
   "mimetype": "text/x-python",
   "name": "python",
   "nbconvert_exporter": "python",
   "pygments_lexer": "ipython3",
   "version": "3.7.4"
  }
 },
 "nbformat": 4,
 "nbformat_minor": 2
}
