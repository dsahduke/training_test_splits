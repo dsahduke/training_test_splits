{
 "cells": [
  {
   "cell_type": "markdown",
   "metadata": {},
   "source": [
    "## Recap\n"
   ]
  },
  {
   "cell_type": "markdown",
   "metadata": {},
   "source": [
    "So far, we've described the general problem of supervised learning, where we have data $x$ and label $y$ and we want to model f(x) -> y.\n",
    "\n",
    "If y is a continuous variable, this is known as regression, and if y is discrete, then the problem is known as classification.\n",
    "\n",
    "In addition, we've seen that the general structure of these problems is to define the form of the model with some parameters, and then to estimate the best values of those parameters given a loss function."
   ]
  },
  {
   "cell_type": "markdown",
   "metadata": {},
   "source": [
    "So if we have formulated a supervised learning problem, and we have the data in a *tidy* format (1 observation per row, 1 variable per column), we can begin to fit the model."
   ]
  },
  {
   "cell_type": "markdown",
   "metadata": {},
   "source": [
    "For example, let's say that we have the following ridge regression example:"
   ]
  },
  {
   "cell_type": "markdown",
   "metadata": {},
   "source": [
    "$$ \\hat{\\beta} = \\underset{\\beta}{\\arg\\min} \\sum_{i=1}^{n}(y_i - \\beta_0 - \\sum_{j=1}^{p}x_{ij}\\beta_j)^2 + \\lambda\\sum_{j=1}^{p}\\beta_j^2$$"
   ]
  },
  {
   "cell_type": "markdown",
   "metadata": {},
   "source": [
    "Our goal here is to estimate the *parameters* of the model, which are the $\\beta$ values. We have seen that we can fit these types of models using gradient descent, although there are other algorithms which exist to solve these types of problems. "
   ]
  },
  {
   "cell_type": "markdown",
   "metadata": {},
   "source": [
    "However, there are a few different approaches even once you have all of this information. Namely:\n",
    "  * How do you estimate your test error? \n",
    "  * How do you structure your training and testing splits? \n",
    "  * How do you pick a value for $\\lambda$?"
   ]
  },
  {
   "cell_type": "markdown",
   "metadata": {},
   "source": [
    "### Hyperparameters"
   ]
  },
  {
   "cell_type": "markdown",
   "metadata": {},
   "source": [
    "A **hyperparameter** is a parameter that is set before any model-fitting actually occurs. In the ridge regression and LASSO setting, $\\lambda$ or the regularization parameters, would be a hyperparameter.\n",
    "\n",
    "This means, *prior* to using gradient descent or some other method for estimating the $\\beta$ coefficients, we must first choose a value of $\\lambda$. In practice, hyperparameters do not even have to be explicit parameters in the model. For example, we can think of a hyperparameter as being whether or not we choose to standardize the covariates before starting the fitting procedure. \n"
   ]
  },
  {
   "cell_type": "markdown",
   "metadata": {},
   "source": [
    "### 2 Simultaneous problems"
   ]
  },
  {
   "cell_type": "markdown",
   "metadata": {},
   "source": [
    "1. Estimate $\\beta$ coefficients.\n",
    "2. Select a good value of $\\lambda$."
   ]
  },
  {
   "cell_type": "markdown",
   "metadata": {},
   "source": [
    "## Train/Test Splits"
   ]
  },
  {
   "cell_type": "markdown",
   "metadata": {},
   "source": [
    "The most common approach in machine learning to estimating how well your model works is to use the Training and Test set procedure.\n",
    "\n",
    "Often, this is done the following way:\n",
    "\n",
    "  1. Randomly select a percentage (usually ~80%) of your dataset, and use those values of training\n",
    "  2. Evaluate the model on the remaining ~20% of the data to test model performance (accuracy, MSE, etc.)\n"
   ]
  },
  {
   "cell_type": "markdown",
   "metadata": {},
   "source": [
    "#### Pros:\n",
    " * easy to implement\n",
    "\n",
    "#### Cons:\n",
    " * the specific examples that are in the training set and testing set may be biased in some way\n",
    " * only use some of the data to fit the model - depending on the size of your data, can overestimate error\n",
    " \n",
    "#### Practical Considerations:\n",
    " * What percentage of data to choose?\n",
    " * How to assess differences in training vs. test?"
   ]
  },
  {
   "cell_type": "markdown",
   "metadata": {},
   "source": [
    "## Cross-Validation"
   ]
  },
  {
   "cell_type": "markdown",
   "metadata": {},
   "source": [
    "Cross-Validation is a technique that addresses some of the downsides of training/test splits. \n",
    "\n",
    "Instead of splitting the data once, cross-validation splits the data many times and averages the error over the splits."
   ]
  },
  {
   "cell_type": "markdown",
   "metadata": {},
   "source": [
    "## k-Fold"
   ]
  },
  {
   "cell_type": "markdown",
   "metadata": {},
   "source": [
    "The most common form of cross-validation is known as *k-fold* validation. In *k-fold* cross-validation, the data is split into $k$ evenly-sized groups, where $k$ is usually 5 or 10. The general idea is to fit the model on k-1 groups, and then test on the last group. Then, you cycle the groups and average the error over the groups (folds)."
   ]
  },
  {
   "cell_type": "markdown",
   "metadata": {},
   "source": [
    "The Cross-Validated error is estimated by:"
   ]
  },
  {
   "cell_type": "markdown",
   "metadata": {},
   "source": [
    "$$ CV_{(k)} = \\frac{1}{k}\\sum_{i=1}^{k}MSE_i $$"
   ]
  },
  {
   "cell_type": "markdown",
   "metadata": {},
   "source": [
    "![](./assets/kfold.png)"
   ]
  },
  {
   "cell_type": "markdown",
   "metadata": {},
   "source": [
    "## LOOCV"
   ]
  },
  {
   "cell_type": "markdown",
   "metadata": {},
   "source": [
    "In the extreme case, where the number of folds is equal to the number of data points, this process is known as *leave-one-out* cross-validation. The scheme then looks like this:"
   ]
  },
  {
   "cell_type": "markdown",
   "metadata": {},
   "source": [
    "![](./assets/loocv.png)"
   ]
  },
  {
   "cell_type": "markdown",
   "metadata": {},
   "source": [
    "#### Pros:\n",
    " * Use almost all the data to train the model\n",
    " * Repeated iterations will always result in the same answer\n",
    " \n",
    "#### Cons:\n",
    " * Computationally very expensive"
   ]
  },
  {
   "cell_type": "markdown",
   "metadata": {},
   "source": [
    "Also a bias-variance tradeoff! Although LOOCV has lower bias, it has a much higher variance. This is due to the fact that each of the models are much more correlated with one another (they only differ by 1 data point), and variances of samples of highly correlated variables are generally higher than those that are less correlated.\n",
    "\n",
    "[Explanation](https://stats.stackexchange.com/a/223461)"
   ]
  },
  {
   "cell_type": "markdown",
   "metadata": {},
   "source": [
    "# What about hyperparameters?"
   ]
  },
  {
   "cell_type": "markdown",
   "metadata": {},
   "source": [
    "If we used a training/test split, and we wanted to vary $\\lambda$ in a LASSO setting, One procedure could be testing different values of $\\lambda$ fit on the training set and evaluated on the test set."
   ]
  },
  {
   "cell_type": "markdown",
   "metadata": {},
   "source": [
    "## Overfitting"
   ]
  },
  {
   "cell_type": "markdown",
   "metadata": {},
   "source": [
    "The problem with this method is that you may overfit to your test set. The more times you evaluate a model on the same test set, the higher the chance that you obtain a good result by chance. This is analogous to the multiple comparison problem in hypothesis testing.\n",
    "\n",
    "Case study: [Kaggle](http://gregpark.io/blog/Kaggle-Psychopathy-Postmortem/)"
   ]
  },
  {
   "cell_type": "markdown",
   "metadata": {},
   "source": [
    "## Validation Set"
   ]
  },
  {
   "cell_type": "markdown",
   "metadata": {},
   "source": [
    "In this case, is there is enough data, one strategy would be to use a validation set in addition to a testing set.\n",
    "\n",
    "In this procedure, we have 3 splits: a training split, validation split, and test split. \n",
    "\n",
    "The general procedure is as follows:\n",
    "\n",
    " 1. Use the training split and evaluate different values of hyperparameters on the validation split. \n",
    " 2. Whatever the best values of the hyperparameters are, select those and train on the combined training and validation split. \n",
    " 3. Evaluate the performance **once** on the test set\n",
    " \n",
    "In practice, steps 1 and 2 are usually done in a cross-validation setting. This is another purpose of cross-validation"
   ]
  },
  {
   "cell_type": "markdown",
   "metadata": {},
   "source": [
    "## Healthcare considerations"
   ]
  },
  {
   "cell_type": "markdown",
   "metadata": {},
   "source": [
    "In healthcare, there are other considerations that may play a part in how to decide on splitting the data"
   ]
  },
  {
   "cell_type": "markdown",
   "metadata": {},
   "source": [
    "#### Generalization over time"
   ]
  },
  {
   "cell_type": "markdown",
   "metadata": {},
   "source": [
    "Oftentimes, if we train data on a particular time period, we want to evaluate how well it works in a different time setting. Research has shown that models trained on one time period often deteriorate over time, either due to shifting populations or other dynamic factors."
   ]
  },
  {
   "cell_type": "markdown",
   "metadata": {},
   "source": [
    "In this setting, it may be useful to consider training and test splits that occur over time. For example, train on 12 months of data and assess performance on subsequent 12 months."
   ]
  },
  {
   "cell_type": "markdown",
   "metadata": {},
   "source": [
    "#### Generalization by site"
   ]
  },
  {
   "cell_type": "markdown",
   "metadata": {},
   "source": [
    "Models trained on one population often do not generalize to other populations. It is critical to validate a model on other patient populations, which is a standard in clinical care. In these settings, it may make sense to have a training set of one patient population and then test on another population.\n",
    "\n",
    "This is also an area of active research"
   ]
  },
  {
   "cell_type": "markdown",
   "metadata": {},
   "source": [
    "## Deployment considerations"
   ]
  },
  {
   "cell_type": "markdown",
   "metadata": {},
   "source": [
    "Deploying models into production has a whole host of issues associated with it. The most important consideration is that the data that you are serving the model on is similar to the data that you trained on.\n",
    "\n",
    "In addition, data that is available at serve time should determine the features that you use in your model. If data will only be available after the model needs to be run, it does not make sense to include in the model.\n",
    "\n",
    "We will cover common problems with model deployment in a future lecture"
   ]
  },
  {
   "cell_type": "markdown",
   "metadata": {},
   "source": [
    "## SKlearn, LASSO, and Cross-Validation"
   ]
  },
  {
   "cell_type": "markdown",
   "metadata": {},
   "source": [
    "## In-class Exercise"
   ]
  },
  {
   "cell_type": "markdown",
   "metadata": {},
   "source": [
    "The following code builds a design/model matrix with the diabetes data"
   ]
  },
  {
   "cell_type": "code",
   "execution_count": 1,
   "metadata": {},
   "outputs": [
    {
     "name": "stderr",
     "output_type": "stream",
     "text": [
      "/anaconda3/lib/python3.7/site-packages/IPython/core/interactiveshell.py:2785: DtypeWarning: Columns (11) have mixed types. Specify dtype option on import or set low_memory=False.\n",
      "  interactivity=interactivity, compiler=compiler, result=result)\n"
     ]
    }
   ],
   "source": [
    "import pandas as pd\n",
    "diabetes_df = pd.read_csv('./data/diabetes_df.csv')"
   ]
  },
  {
   "cell_type": "code",
   "execution_count": 2,
   "metadata": {},
   "outputs": [],
   "source": [
    "model_subset = diabetes_df.loc[:, ['encounter_id', 'race', 'gender', 'num_lab_procedures', 'num_procedures', 'num_medications', 'number_outpatient', 'number_emergency', 'number_inpatient', 'number_diagnoses']]"
   ]
  },
  {
   "cell_type": "code",
   "execution_count": 3,
   "metadata": {},
   "outputs": [],
   "source": [
    "id_subset = diabetes_df.loc[:, ['encounter_id', 'admission_type_id', 'discharge_disposition_id', 'admission_source_id']]"
   ]
  },
  {
   "cell_type": "code",
   "execution_count": 4,
   "metadata": {},
   "outputs": [],
   "source": [
    "ccs_subset = diabetes_df.loc[:, ['encounter_id', 'CCS Category Description 1', 'CCS Category Description 2', 'CCS Category Description 3']]"
   ]
  },
  {
   "cell_type": "code",
   "execution_count": 5,
   "metadata": {},
   "outputs": [],
   "source": [
    "model_subset = pd.get_dummies(model_subset, prefix = \"ind_\", dummy_na = True, drop_first = True)"
   ]
  },
  {
   "cell_type": "code",
   "execution_count": 6,
   "metadata": {},
   "outputs": [],
   "source": [
    "id_subset = pd.get_dummies(id_subset, columns = ['admission_type_id', 'discharge_disposition_id', 'admission_source_id'],prefix = {x:x for x in id_subset.columns if x is not 'encounter_id'}, dummy_na = True, drop_first = True)"
   ]
  },
  {
   "cell_type": "code",
   "execution_count": 7,
   "metadata": {},
   "outputs": [],
   "source": [
    "ccs_subset = pd.get_dummies(ccs_subset, prefix = \"ind_\", dummy_na = True, drop_first = True)"
   ]
  },
  {
   "cell_type": "markdown",
   "metadata": {},
   "source": [
    "#### Combine repeated columns"
   ]
  },
  {
   "cell_type": "code",
   "execution_count": 8,
   "metadata": {},
   "outputs": [],
   "source": [
    "import numpy as np"
   ]
  },
  {
   "cell_type": "code",
   "execution_count": 9,
   "metadata": {
    "scrolled": false
   },
   "outputs": [],
   "source": [
    "ccs_subset = ccs_subset.groupby(ccs_subset.columns, axis = 1).sum()"
   ]
  },
  {
   "cell_type": "markdown",
   "metadata": {},
   "source": [
    "#### Join all dataframes together"
   ]
  },
  {
   "cell_type": "code",
   "execution_count": 10,
   "metadata": {},
   "outputs": [],
   "source": [
    "outcome = diabetes_df.loc[:, 'time_in_hospital']"
   ]
  },
  {
   "cell_type": "code",
   "execution_count": 11,
   "metadata": {},
   "outputs": [],
   "source": [
    "model_dataset = (model_subset.merge(id_subset, how = \"left\", on = \"encounter_id\")\n",
    "                             .merge(ccs_subset, how = \"left\", on = \"encounter_id\")\n",
    "                )"
   ]
  },
  {
   "cell_type": "code",
   "execution_count": 12,
   "metadata": {},
   "outputs": [],
   "source": [
    "model_matrix = model_dataset.drop('encounter_id', axis = 1).values"
   ]
  },
  {
   "cell_type": "code",
   "execution_count": 13,
   "metadata": {},
   "outputs": [
    {
     "data": {
      "text/plain": [
       "array([[41,  0,  1, ...,  0,  0,  2],\n",
       "       [59,  0, 18, ...,  0,  0,  0],\n",
       "       [11,  5, 13, ...,  0,  0,  2],\n",
       "       ...,\n",
       "       [53,  0,  9, ...,  0,  0,  2],\n",
       "       [45,  2, 21, ...,  0,  0,  1],\n",
       "       [13,  3,  3, ...,  0,  0,  0]])"
      ]
     },
     "execution_count": 13,
     "metadata": {},
     "output_type": "execute_result"
    }
   ],
   "source": [
    "model_matrix"
   ]
  },
  {
   "cell_type": "code",
   "execution_count": 14,
   "metadata": {},
   "outputs": [
    {
     "data": {
      "text/plain": [
       "(101766, 264)"
      ]
     },
     "execution_count": 14,
     "metadata": {},
     "output_type": "execute_result"
    }
   ],
   "source": [
    "model_matrix.shape"
   ]
  },
  {
   "cell_type": "code",
   "execution_count": 15,
   "metadata": {},
   "outputs": [
    {
     "data": {
      "text/plain": [
       "(101766,)"
      ]
     },
     "execution_count": 15,
     "metadata": {},
     "output_type": "execute_result"
    }
   ],
   "source": [
    "outcome.shape"
   ]
  },
  {
   "cell_type": "markdown",
   "metadata": {},
   "source": [
    "## Fit a LASSO using cross-validation"
   ]
  },
  {
   "cell_type": "code",
   "execution_count": 18,
   "metadata": {},
   "outputs": [],
   "source": [
    "from sklearn import linear_model, model_selection"
   ]
  },
  {
   "cell_type": "markdown",
   "metadata": {},
   "source": [
    "The goal here will be to fit a LASSO Linear Regression. Specifically, we want to find the right value of $\\lambda$ that minimizes the test MSE."
   ]
  },
  {
   "cell_type": "markdown",
   "metadata": {},
   "source": [
    "$$ \\hat{\\beta} = \\underset{\\beta}{\\arg\\min} \\sum_{i=1}^{n}(y_i - \\beta_0 - \\sum_{j=1}^{p}x_{ij}\\beta_j)^2 + \\lambda\\sum_{j=1}^{p}|\\beta_j|$$"
   ]
  },
  {
   "cell_type": "markdown",
   "metadata": {},
   "source": [
    "$$ MSE = \\frac{1}{n}\\sum_{i=1}^{n}(y_i - \\hat{f}(x_i))^2 $$"
   ]
  },
  {
   "cell_type": "markdown",
   "metadata": {},
   "source": [
    "### Split the data into a training and test split"
   ]
  },
  {
   "cell_type": "markdown",
   "metadata": {},
   "source": [
    "Make sure to randomly select rows. You can use scikit-learn's helper functions or write your own. https://scikit-learn.org/stable/modules/generated/sklearn.model_selection.train_test_split.html"
   ]
  },
  {
   "cell_type": "code",
   "execution_count": 19,
   "metadata": {},
   "outputs": [],
   "source": [
    "X_train, X_test, y_train, y_test = model_selection.train_test_split(model_matrix, outcome.values, test_size=0.2, random_state=42)"
   ]
  },
  {
   "cell_type": "code",
   "execution_count": 23,
   "metadata": {},
   "outputs": [
    {
     "data": {
      "text/plain": [
       "(81412, 264)"
      ]
     },
     "execution_count": 23,
     "metadata": {},
     "output_type": "execute_result"
    }
   ],
   "source": [
    "X_train.shape"
   ]
  },
  {
   "cell_type": "code",
   "execution_count": 24,
   "metadata": {},
   "outputs": [
    {
     "data": {
      "text/plain": [
       "(20354, 264)"
      ]
     },
     "execution_count": 24,
     "metadata": {},
     "output_type": "execute_result"
    }
   ],
   "source": [
    "X_test.shape"
   ]
  },
  {
   "cell_type": "code",
   "execution_count": 52,
   "metadata": {},
   "outputs": [
    {
     "data": {
      "text/plain": [
       "(81412,)"
      ]
     },
     "execution_count": 52,
     "metadata": {},
     "output_type": "execute_result"
    }
   ],
   "source": [
    "y_train.shape"
   ]
  },
  {
   "cell_type": "code",
   "execution_count": 53,
   "metadata": {},
   "outputs": [
    {
     "data": {
      "text/plain": [
       "(20354,)"
      ]
     },
     "execution_count": 53,
     "metadata": {},
     "output_type": "execute_result"
    }
   ],
   "source": [
    "y_test.shape"
   ]
  },
  {
   "cell_type": "markdown",
   "metadata": {},
   "source": [
    "### Use the Cross-validated LASSO in Sci-kit learn to fit the model to the data"
   ]
  },
  {
   "cell_type": "markdown",
   "metadata": {},
   "source": [
    "https://scikit-learn.org/stable/modules/generated/sklearn.linear_model.LassoCV.html"
   ]
  },
  {
   "cell_type": "code",
   "execution_count": 54,
   "metadata": {},
   "outputs": [],
   "source": [
    "model = linear_model.LassoCV(cv = 5) # This line simply instantiates the object. Here, we set k, the number of folds, to 5"
   ]
  },
  {
   "cell_type": "code",
   "execution_count": 55,
   "metadata": {
    "scrolled": true
   },
   "outputs": [
    {
     "data": {
      "text/plain": [
       "LassoCV(alphas=None, copy_X=True, cv=5, eps=0.001, fit_intercept=True,\n",
       "    max_iter=1000, n_alphas=100, n_jobs=1, normalize=False, positive=False,\n",
       "    precompute='auto', random_state=None, selection='cyclic', tol=0.0001,\n",
       "    verbose=False)"
      ]
     },
     "execution_count": 55,
     "metadata": {},
     "output_type": "execute_result"
    }
   ],
   "source": [
    "model.fit(X_train, y_train) # Fit the training data"
   ]
  },
  {
   "cell_type": "markdown",
   "metadata": {},
   "source": [
    "The model object now contains attributes that can be seen in the \"Attributes\" section of the documentation above.\n",
    "\n",
    "To extract the best value of $\\lambda$, we can call"
   ]
  },
  {
   "cell_type": "code",
   "execution_count": 32,
   "metadata": {},
   "outputs": [
    {
     "data": {
      "text/plain": [
       "0.018779364347744607"
      ]
     },
     "execution_count": 32,
     "metadata": {},
     "output_type": "execute_result"
    }
   ],
   "source": [
    "model.alpha_"
   ]
  },
  {
   "cell_type": "markdown",
   "metadata": {},
   "source": [
    "Notice that in scikit-learn, the regularization parameter is called $\\alpha$"
   ]
  },
  {
   "cell_type": "code",
   "execution_count": 59,
   "metadata": {},
   "outputs": [],
   "source": [
    "import matplotlib.pyplot as plt\n",
    "%matplotlib inline"
   ]
  },
  {
   "cell_type": "markdown",
   "metadata": {},
   "source": [
    "`model.mse_path_` contains a matrix that is (n_alpha, n_folds) which shows the mean square error for each fold of crossvalidation for each lambda value. The lambda values can be accessed via `model.alphas_`"
   ]
  },
  {
   "cell_type": "markdown",
   "metadata": {},
   "source": [
    "Here, we used the default $\\lambda$ values that are run by the function. However, it may be worth specifying our own. "
   ]
  },
  {
   "cell_type": "code",
   "execution_count": 63,
   "metadata": {
    "scrolled": true
   },
   "outputs": [],
   "source": [
    "Average_MSE = np.mean(model.mse_path_, axis = 1)"
   ]
  },
  {
   "cell_type": "code",
   "execution_count": 72,
   "metadata": {
    "scrolled": true
   },
   "outputs": [
    {
     "data": {
      "text/plain": [
       "<matplotlib.axes._subplots.AxesSubplot at 0x134b8d2b0>"
      ]
     },
     "execution_count": 72,
     "metadata": {},
     "output_type": "execute_result"
    },
    {
     "data": {
      "image/png": "[encoded data removed]",
      "text/plain": [
       "<Figure size 432x288 with 1 Axes>"
      ]
     },
     "metadata": {
      "needs_background": "light"
     },
     "output_type": "display_data"
    }
   ],
   "source": [
    "fig, axes = plt.subplots()\n",
    "axes.scatter(model.alphas_, Average_MSE)\n",
    "axes.set(title = \"Average MSE in k-fold CV by Regularization Parameter\", xlabel = r'$\\alpha$', ylabel = \"MSE\")\n",
    "axes"
   ]
  },
  {
   "cell_type": "markdown",
   "metadata": {},
   "source": [
    "It turns out that MSE seems like it grows monotonically with $\\alpha$. This means that perhaps we should try supplying our own values of $\\alpha$ take broader ranges. "
   ]
  },
  {
   "cell_type": "code",
   "execution_count": 74,
   "metadata": {},
   "outputs": [
    {
     "name": "stdout",
     "output_type": "stream",
     "text": [
      "0.018779364347744607 18.779364347744607\n"
     ]
    }
   ],
   "source": [
    "print(np.min(model.alphas_), np.max(model.alphas_))"
   ]
  },
  {
   "cell_type": "code",
   "execution_count": 80,
   "metadata": {},
   "outputs": [
    {
     "data": {
      "text/plain": [
       "(100,)"
      ]
     },
     "execution_count": 80,
     "metadata": {},
     "output_type": "execute_result"
    }
   ],
   "source": [
    "model.alphas_.shape"
   ]
  },
  {
   "cell_type": "markdown",
   "metadata": {},
   "source": [
    "#### Refit"
   ]
  },
  {
   "cell_type": "code",
   "execution_count": 86,
   "metadata": {},
   "outputs": [],
   "source": [
    "alphas = np.logspace(-5, 5, 100)"
   ]
  },
  {
   "cell_type": "code",
   "execution_count": 87,
   "metadata": {
    "scrolled": true
   },
   "outputs": [
    {
     "data": {
      "text/plain": [
       "array([1.00000000e-05, 1.26185688e-05, 1.59228279e-05, 2.00923300e-05,\n",
       "       2.53536449e-05, 3.19926714e-05, 4.03701726e-05, 5.09413801e-05,\n",
       "       6.42807312e-05, 8.11130831e-05, 1.02353102e-04, 1.29154967e-04,\n",
       "       1.62975083e-04, 2.05651231e-04, 2.59502421e-04, 3.27454916e-04,\n",
       "       4.13201240e-04, 5.21400829e-04, 6.57933225e-04, 8.30217568e-04,\n",
       "       1.04761575e-03, 1.32194115e-03, 1.66810054e-03, 2.10490414e-03,\n",
       "       2.65608778e-03, 3.35160265e-03, 4.22924287e-03, 5.33669923e-03,\n",
       "       6.73415066e-03, 8.49753436e-03, 1.07226722e-02, 1.35304777e-02,\n",
       "       1.70735265e-02, 2.15443469e-02, 2.71858824e-02, 3.43046929e-02,\n",
       "       4.32876128e-02, 5.46227722e-02, 6.89261210e-02, 8.69749003e-02,\n",
       "       1.09749877e-01, 1.38488637e-01, 1.74752840e-01, 2.20513074e-01,\n",
       "       2.78255940e-01, 3.51119173e-01, 4.43062146e-01, 5.59081018e-01,\n",
       "       7.05480231e-01, 8.90215085e-01, 1.12332403e+00, 1.41747416e+00,\n",
       "       1.78864953e+00, 2.25701972e+00, 2.84803587e+00, 3.59381366e+00,\n",
       "       4.53487851e+00, 5.72236766e+00, 7.22080902e+00, 9.11162756e+00,\n",
       "       1.14975700e+01, 1.45082878e+01, 1.83073828e+01, 2.31012970e+01,\n",
       "       2.91505306e+01, 3.67837977e+01, 4.64158883e+01, 5.85702082e+01,\n",
       "       7.39072203e+01, 9.32603347e+01, 1.17681195e+02, 1.48496826e+02,\n",
       "       1.87381742e+02, 2.36448941e+02, 2.98364724e+02, 3.76493581e+02,\n",
       "       4.75081016e+02, 5.99484250e+02, 7.56463328e+02, 9.54548457e+02,\n",
       "       1.20450354e+03, 1.51991108e+03, 1.91791026e+03, 2.42012826e+03,\n",
       "       3.05385551e+03, 3.85352859e+03, 4.86260158e+03, 6.13590727e+03,\n",
       "       7.74263683e+03, 9.77009957e+03, 1.23284674e+04, 1.55567614e+04,\n",
       "       1.96304065e+04, 2.47707636e+04, 3.12571585e+04, 3.94420606e+04,\n",
       "       4.97702356e+04, 6.28029144e+04, 7.92482898e+04, 1.00000000e+05])"
      ]
     },
     "execution_count": 87,
     "metadata": {},
     "output_type": "execute_result"
    }
   ],
   "source": [
    "alphas"
   ]
  },
  {
   "cell_type": "code",
   "execution_count": 88,
   "metadata": {},
   "outputs": [],
   "source": [
    "new_model = linear_model.LassoCV(cv = 5, alphas = alphas)"
   ]
  },
  {
   "cell_type": "code",
   "execution_count": 89,
   "metadata": {
    "scrolled": false
   },
   "outputs": [
    {
     "data": {
      "text/plain": [
       "LassoCV(alphas=array([1.00000e-05, 1.26186e-05, ..., 7.92483e+04, 1.00000e+05]),\n",
       "    copy_X=True, cv=5, eps=0.001, fit_intercept=True, max_iter=1000,\n",
       "    n_alphas=100, n_jobs=1, normalize=False, positive=False,\n",
       "    precompute='auto', random_state=None, selection='cyclic', tol=0.0001,\n",
       "    verbose=False)"
      ]
     },
     "execution_count": 89,
     "metadata": {},
     "output_type": "execute_result"
    }
   ],
   "source": [
    "new_model.fit(X_train, y_train)"
   ]
  },
  {
   "cell_type": "code",
   "execution_count": 90,
   "metadata": {},
   "outputs": [
    {
     "data": {
      "text/plain": [
       "5.0941380148163754e-05"
      ]
     },
     "execution_count": 90,
     "metadata": {},
     "output_type": "execute_result"
    }
   ],
   "source": [
    "new_model.alpha_"
   ]
  },
  {
   "cell_type": "code",
   "execution_count": 91,
   "metadata": {},
   "outputs": [],
   "source": [
    "new_average_MSE = np.mean(new_model.mse_path_, axis = 1)"
   ]
  },
  {
   "cell_type": "code",
   "execution_count": 92,
   "metadata": {
    "scrolled": true
   },
   "outputs": [
    {
     "data": {
      "text/plain": [
       "<matplotlib.axes._subplots.AxesSubplot at 0x134b99978>"
      ]
     },
     "execution_count": 92,
     "metadata": {},
     "output_type": "execute_result"
    },
    {
     "data": {
      "image/png": "[encoded data removed]",
      "text/plain": [
       "<Figure size 432x288 with 1 Axes>"
      ]
     },
     "metadata": {
      "needs_background": "light"
     },
     "output_type": "display_data"
    }
   ],
   "source": [
    "fig, axes = plt.subplots()\n",
    "axes.scatter(new_model.alphas_, new_average_MSE)\n",
    "axes.set(title = \"Average MSE in k-fold CV by Regularization Parameter\", xlabel = r'$\\alpha$', ylabel = \"MSE\")\n",
    "axes"
   ]
  },
  {
   "cell_type": "code",
   "execution_count": 95,
   "metadata": {},
   "outputs": [
    {
     "data": {
      "text/plain": [
       "<matplotlib.axes._subplots.AxesSubplot at 0x135094860>"
      ]
     },
     "execution_count": 95,
     "metadata": {},
     "output_type": "execute_result"
    },
    {
     "data": {
      "image/png": "[encoded data removed]",
      "text/plain": [
       "<Figure size 432x288 with 1 Axes>"
      ]
     },
     "metadata": {
      "needs_background": "light"
     },
     "output_type": "display_data"
    }
   ],
   "source": [
    "fig, axes = plt.subplots()\n",
    "axes.scatter(new_model.alphas_, new_average_MSE)\n",
    "axes.set(title = \"Average MSE in k-fold CV by Regularization Parameter\", xlabel = r'$\\alpha$', ylabel = \"MSE\", xlim = (0, 0.0001))\n",
    "axes"
   ]
  },
  {
   "cell_type": "markdown",
   "metadata": {},
   "source": [
    "## Extract the best value for $\\lambda$"
   ]
  },
  {
   "cell_type": "markdown",
   "metadata": {},
   "source": [
    "Use this value to fit the final model on the combined training set and evaluate the performance on the test set\n",
    "\n",
    "https://scikit-learn.org/stable/modules/generated/sklearn.linear_model.Lasso.html"
   ]
  },
  {
   "cell_type": "code",
   "execution_count": 96,
   "metadata": {},
   "outputs": [],
   "source": [
    "final_model = linear_model.Lasso(alpha = new_model.alpha_).fit(X_train, y_train)"
   ]
  },
  {
   "cell_type": "markdown",
   "metadata": {},
   "source": [
    "### How many non-zero coefficients are in the final model?"
   ]
  },
  {
   "cell_type": "code",
   "execution_count": 97,
   "metadata": {
    "scrolled": true
   },
   "outputs": [
    {
     "data": {
      "text/plain": [
       "array([ 0.02667512,  0.21332089,  0.12829873, -0.06624804, -0.05867516,\n",
       "        0.03358425,  0.0497016 , -0.08323201, -0.2946486 , -0.05428888,\n",
       "       -0.2222244 , -0.37065192, -0.04204017, -0.        ,  0.43171306,\n",
       "       -0.15949923, -0.        ,  0.08991762, -0.0437033 , -0.        ,\n",
       "       -1.00701513,  0.        ,  0.01457063,  1.26113169,  1.10021313,\n",
       "        1.30262448,  0.79213418, -0.71122419,  1.75015143,  0.59695693,\n",
       "        0.        , -0.36122207, -0.        ,  1.31781822,  0.92385744,\n",
       "        1.78885463,  0.12052934,  2.9599074 ,  1.17043998, -1.30979735,\n",
       "        0.        ,  1.07410531,  1.552948  , -0.        ,  0.80459617,\n",
       "        5.35559214, -0.        ,  0.        , -0.09134356, -0.        ,\n",
       "        0.60444241,  0.27236628,  0.5295504 ,  0.15560536,  0.89580379,\n",
       "       -0.02929505, -0.        ,  0.        ,  0.        , -0.        ,\n",
       "        0.05045903, -0.39049273,  1.27476625,  0.        ,  0.        ,\n",
       "       -0.53686821, -0.        ,  0.38859369, -0.65328021,  0.88005019,\n",
       "       -0.26371675, -0.56646862,  0.1893303 , -0.60406084, -0.86001845,\n",
       "        0.0468957 , -0.47842808,  0.        ,  0.48378588, -0.45614949,\n",
       "       -0.85296534, -0.24034054, -0.        , -0.75492395,  1.28013134,\n",
       "        0.24805997, -0.85822356, -0.33049055, -0.32458282,  0.        ,\n",
       "       -0.14178646, -0.38823188, -0.36951177,  0.25333066, -1.00244052,\n",
       "       -0.13740088,  1.03526155, -0.4781546 , -0.        , -0.71139076,\n",
       "       -0.        , -1.15762444,  0.35492893,  0.48942651,  2.10655505,\n",
       "       -0.25854659, -0.19317987, -0.28099338, -0.        , -0.83642043,\n",
       "       -0.        , -0.        , -0.        , -0.67689008,  0.        ,\n",
       "       -0.        , -1.21965401, -0.        ,  1.04256036, -0.75375861,\n",
       "       -0.07739365, -0.        , -0.78666079,  0.98108048,  0.        ,\n",
       "       -0.34093409, -0.        , -0.51855677, -0.32374068,  0.        ,\n",
       "       -0.4047784 ,  0.64623278, -0.52046574, -0.        , -0.27350603,\n",
       "       -0.03339151,  0.56448552, -0.29838647, -0.73631426, -0.21340986,\n",
       "       -0.45527908, -0.64438786, -0.85130816, -0.33735449, -0.09221262,\n",
       "       -0.61825217,  0.48526266,  0.1073862 , -0.04927788, -1.19885017,\n",
       "        0.59924182, -0.06372771,  0.1816867 ,  0.36048096,  0.35206249,\n",
       "       -0.63870716, -0.25792974, -0.        , -1.03590162, -0.89566571,\n",
       "        0.        , -0.4524587 ,  0.16132382,  0.20308332, -0.62650487,\n",
       "        0.1606278 ,  0.05124791,  0.        ,  0.42613986,  0.25469416,\n",
       "       -0.6986502 , -0.77078615, -0.79168428,  0.84590905, -0.01978379,\n",
       "        0.95895039, -0.47541648, -0.        , -1.1831146 , -0.35481499,\n",
       "       -0.21344432, -0.52560296, -0.08457613, -0.30972018, -0.85321535,\n",
       "        0.05500369, -0.2716663 , -0.21567728, -0.92285816, -0.62522768,\n",
       "        0.31915455,  0.21621492, -0.55995641, -0.13978282,  1.00799403,\n",
       "       -0.07242588,  0.01986661, -0.63053296, -0.        , -0.40492389,\n",
       "       -1.15725432, -0.33377801, -0.5131181 , -0.21407605,  0.24802722,\n",
       "       -0.21273591, -0.65616171, -0.64136424, -0.28598888, -0.37903993,\n",
       "       -0.        , -0.73473815, -0.22752294, -0.34398136,  0.19048135,\n",
       "        0.28220417, -0.27878807, -0.39279518,  0.26251177,  0.61106627,\n",
       "        1.69301677,  0.5347287 ,  0.07720317,  0.43331884, -0.2918109 ,\n",
       "       -0.83831948, -0.43994912, -0.68736536, -1.17618583,  0.41935232,\n",
       "        0.85475368,  3.80290739, -0.25923391, -0.59013866,  0.89450937,\n",
       "        1.70793043,  0.33090894, -0.68648641,  0.2697328 ,  0.13122714,\n",
       "        0.4224478 , -0.77010397,  0.87181196, -0.2477911 , -0.67804232,\n",
       "       -0.49933114, -0.58247156, -0.70557955,  0.        , -0.60848887,\n",
       "       -1.07054405,  0.        , -0.27890515,  0.28078129,  0.123123  ,\n",
       "       -0.55897002, -0.49736496, -0.43557569, -0.94549099, -0.4881501 ,\n",
       "       -0.27001661, -0.20530617, -0.09761568, -0.39002234])"
      ]
     },
     "execution_count": 97,
     "metadata": {},
     "output_type": "execute_result"
    }
   ],
   "source": [
    "final_model.coef_"
   ]
  },
  {
   "cell_type": "code",
   "execution_count": 100,
   "metadata": {},
   "outputs": [
    {
     "data": {
      "text/plain": [
       "221"
      ]
     },
     "execution_count": 100,
     "metadata": {},
     "output_type": "execute_result"
    }
   ],
   "source": [
    "np.sum(final_model.coef_ != 0)"
   ]
  },
  {
   "cell_type": "markdown",
   "metadata": {},
   "source": [
    "Recall that the LASSO penalty will shrink some coefficients to exactly 0."
   ]
  },
  {
   "cell_type": "markdown",
   "metadata": {},
   "source": [
    "## Standardization"
   ]
  },
  {
   "cell_type": "markdown",
   "metadata": {},
   "source": [
    "Recall that for regularization, it is recommended that you \"standardize\" the inputs beforehand. Let's see why this is."
   ]
  },
  {
   "cell_type": "code",
   "execution_count": 103,
   "metadata": {},
   "outputs": [
    {
     "data": {
      "text/plain": [
       "array([[41,  0,  1, ...,  0,  0,  2],\n",
       "       [59,  0, 18, ...,  0,  0,  0],\n",
       "       [11,  5, 13, ...,  0,  0,  2],\n",
       "       ...,\n",
       "       [53,  0,  9, ...,  0,  0,  2],\n",
       "       [45,  2, 21, ...,  0,  0,  1],\n",
       "       [13,  3,  3, ...,  0,  0,  0]])"
      ]
     },
     "execution_count": 103,
     "metadata": {},
     "output_type": "execute_result"
    }
   ],
   "source": [
    "model_matrix"
   ]
  },
  {
   "cell_type": "markdown",
   "metadata": {},
   "source": [
    "Notice that there is an order of magnitude difference in some cases between the values in some columns versus others."
   ]
  },
  {
   "cell_type": "markdown",
   "metadata": {},
   "source": [
    "A subtle note that is important is that when we standardize a column, which looks like:\n",
    "\n",
    "$$ Z = \\frac{x - \\bar{x}}{\\sigma} $$"
   ]
  },
  {
   "cell_type": "markdown",
   "metadata": {},
   "source": [
    "we need to do that *separately* for each cross-validated fold"
   ]
  },
  {
   "cell_type": "markdown",
   "metadata": {},
   "source": [
    "It is very easy to just standardize everything at the beginning, but in a sense this is *cheating* since you are using data that should belong in a test fold. Unfortunately, sci-kit learn does not have an easy way to do this (that I know of)."
   ]
  },
  {
   "cell_type": "markdown",
   "metadata": {},
   "source": [
    "#### Define our own cross-validation scheme"
   ]
  },
  {
   "cell_type": "code",
   "execution_count": 107,
   "metadata": {},
   "outputs": [],
   "source": [
    "mse_path_ = [] # keep track of the MSE paths for each lambda\n",
    "k = 5\n",
    "alphas = np.logspace(-5, 5, 100)\n"
   ]
  },
  {
   "cell_type": "code",
   "execution_count": 114,
   "metadata": {},
   "outputs": [],
   "source": [
    "# Since the train_test_split function automatically randomizes the rows, \n",
    "# we can simply cut the rows into 5 parts to keep track of folds\n",
    "\n",
    "fold_indices = np.array_split(np.arange(0, X_train.shape[0]), k)\n"
   ]
  },
  {
   "cell_type": "code",
   "execution_count": 116,
   "metadata": {},
   "outputs": [
    {
     "data": {
      "text/plain": [
       "[array([    0,     1,     2, ..., 16280, 16281, 16282]),\n",
       " array([16283, 16284, 16285, ..., 32563, 32564, 32565]),\n",
       " array([32566, 32567, 32568, ..., 48845, 48846, 48847]),\n",
       " array([48848, 48849, 48850, ..., 65127, 65128, 65129]),\n",
       " array([65130, 65131, 65132, ..., 81409, 81410, 81411])]"
      ]
     },
     "execution_count": 116,
     "metadata": {},
     "output_type": "execute_result"
    }
   ],
   "source": [
    "fold_indices #fold_indices[0] refers to the first fold, etc."
   ]
  },
  {
   "cell_type": "code",
   "execution_count": 117,
   "metadata": {},
   "outputs": [],
   "source": [
    "def squared_error(prediction, true_value):\n",
    "    return (true_value - prediction)**2"
   ]
  },
  {
   "cell_type": "code",
   "execution_count": 143,
   "metadata": {},
   "outputs": [],
   "source": [
    "from sklearn import preprocessing # the function scale will standardize a matrix: https://scikit-learn.org/stable/modules/preprocessing.html"
   ]
  },
  {
   "cell_type": "code",
   "execution_count": 144,
   "metadata": {},
   "outputs": [
    {
     "name": "stderr",
     "output_type": "stream",
     "text": [
      "/anaconda3/lib/python3.7/site-packages/sklearn/utils/validation.py:475: DataConversionWarning: Data with input dtype int64 was converted to float64 by the scale function.\n",
      "  warnings.warn(msg, DataConversionWarning)\n"
     ]
    }
   ],
   "source": [
    "# Begin Cross-validation\n",
    "\n",
    "for alpha in alphas:\n",
    "    mse_list = [] # We will append MSEs to this list\n",
    "    for iteration in range(0, k):\n",
    "        test_fold_indices = fold_indices[iteration]\n",
    "        \n",
    "        model = linear_model.Lasso(alpha = alpha)\n",
    "        # Standardize the train set\n",
    "        \n",
    "        model.fit(preprocessing.scale(np.delete(X_train, test_fold_indices, axis = 0)), np.delete(y_train, test_fold_indices))\n",
    "        # np.delete https://docs.scipy.org/doc/numpy-1.13.0/reference/generated/numpy.delete.html\n",
    "        \n",
    "        # Now that the model has been fit on the 4 folds, we can test it on the final fold\n",
    "        predictions = model.predict(preprocessing.scale(X_train[test_fold_indices, :]))\n",
    "        \n",
    "        MSE = np.mean(squared_error(predictions, y_train[test_fold_indices]))\n",
    "        mse_list.append(MSE)\n",
    "    \n",
    "    # mse_list should now have k values. We can add those to mse_path_\n",
    "    mse_path_.append(mse_list)\n",
    "    "
   ]
  },
  {
   "cell_type": "code",
   "execution_count": 158,
   "metadata": {},
   "outputs": [],
   "source": [
    "average_MSE = [np.mean(x) for x in mse_path_]"
   ]
  },
  {
   "cell_type": "code",
   "execution_count": 159,
   "metadata": {},
   "outputs": [
    {
     "data": {
      "text/plain": [
       "[5.41348710826948,\n",
       " 5.4134842149302544,\n",
       " 5.413480630674746,\n",
       " 5.413475799829682,\n",
       " 5.413470282504021,\n",
       " 5.413463584990884,\n",
       " 5.413455551709465,\n",
       " 5.413443532334902,\n",
       " 5.413431474959747,\n",
       " 5.413420977221386,\n",
       " 5.413406955888247,\n",
       " 5.413389554066868,\n",
       " 5.413371052232728,\n",
       " 5.41334904931109,\n",
       " 5.413347782756016,\n",
       " 5.413380245035859,\n",
       " 5.413426757086298,\n",
       " 5.413485207019086,\n",
       " 5.413638760496745,\n",
       " 5.413798183038567,\n",
       " 5.414092703538495,\n",
       " 5.414353654257972,\n",
       " 5.414632425115923,\n",
       " 5.414591276618047,\n",
       " 5.414708010422109,\n",
       " 5.4150595313909,\n",
       " 5.415744584043457,\n",
       " 5.416703296551081,\n",
       " 5.418476322338404,\n",
       " 5.421643307775618,\n",
       " 5.426893979025889,\n",
       " 5.434853197023292,\n",
       " 5.446343832846515,\n",
       " 5.462999777922703,\n",
       " 5.486012428093706,\n",
       " 5.517020857048786,\n",
       " 5.559916799222795,\n",
       " 5.615345336962137,\n",
       " 5.684399658800582,\n",
       " 5.770169200154751,\n",
       " 5.878993929945499,\n",
       " 5.9884674916197715,\n",
       " 6.112892897370995,\n",
       " 6.260027616135514,\n",
       " 6.405567469461244,\n",
       " 6.616034090674238,\n",
       " 6.90673630747653,\n",
       " 7.149772414365844,\n",
       " 7.441552113523679,\n",
       " 7.807443599554285,\n",
       " 8.276760321155127,\n",
       " 8.962563264726285,\n",
       " 8.962563264726285,\n",
       " 8.962563264726285,\n",
       " 8.962563264726285,\n",
       " 8.962563264726285,\n",
       " 8.962563264726285,\n",
       " 8.962563264726285,\n",
       " 8.962563264726285,\n",
       " 8.962563264726285,\n",
       " 8.962563264726285,\n",
       " 8.962563264726285,\n",
       " 8.962563264726285,\n",
       " 8.962563264726285,\n",
       " 8.962563264726285,\n",
       " 8.962563264726285,\n",
       " 8.962563264726285,\n",
       " 8.962563264726285,\n",
       " 8.962563264726285,\n",
       " 8.962563264726285,\n",
       " 8.962563264726285,\n",
       " 8.962563264726285,\n",
       " 8.962563264726285,\n",
       " 8.962563264726285,\n",
       " 8.962563264726285,\n",
       " 8.962563264726285,\n",
       " 8.962563264726285,\n",
       " 8.962563264726285,\n",
       " 8.962563264726285,\n",
       " 8.962563264726285,\n",
       " 8.962563264726285,\n",
       " 8.962563264726285,\n",
       " 8.962563264726285,\n",
       " 8.962563264726285,\n",
       " 8.962563264726285,\n",
       " 8.962563264726285,\n",
       " 8.962563264726285,\n",
       " 8.962563264726285,\n",
       " 8.962563264726285,\n",
       " 8.962563264726285,\n",
       " 8.962563264726285,\n",
       " 8.962563264726285,\n",
       " 8.962563264726285,\n",
       " 8.962563264726285,\n",
       " 8.962563264726285,\n",
       " 8.962563264726285,\n",
       " 8.962563264726285,\n",
       " 8.962563264726285,\n",
       " 8.962563264726285,\n",
       " 8.962563264726285]"
      ]
     },
     "execution_count": 159,
     "metadata": {},
     "output_type": "execute_result"
    }
   ],
   "source": [
    "average_MSE"
   ]
  },
  {
   "cell_type": "code",
   "execution_count": 160,
   "metadata": {},
   "outputs": [
    {
     "data": {
      "text/plain": [
       "<matplotlib.axes._subplots.AxesSubplot at 0x1356e95c0>"
      ]
     },
     "execution_count": 160,
     "metadata": {},
     "output_type": "execute_result"
    },
    {
     "data": {
      "image/png": "[encoded data removed]",
      "text/plain": [
       "<Figure size 432x288 with 1 Axes>"
      ]
     },
     "metadata": {
      "needs_background": "light"
     },
     "output_type": "display_data"
    }
   ],
   "source": [
    "fig, axes = plt.subplots()\n",
    "axes.scatter(alphas, average_MSE)\n",
    "axes.set(title = \"Average MSE in k-fold CV by Regularization Parameter\", xlabel = r'$\\alpha$', ylabel = \"MSE\")\n",
    "axes"
   ]
  },
  {
   "cell_type": "code",
   "execution_count": 162,
   "metadata": {},
   "outputs": [
    {
     "data": {
      "text/plain": [
       "<matplotlib.axes._subplots.AxesSubplot at 0x13579ac88>"
      ]
     },
     "execution_count": 162,
     "metadata": {},
     "output_type": "execute_result"
    },
    {
     "data": {
      "image/png": "[encoded data removed]",
      "text/plain": [
       "<Figure size 432x288 with 1 Axes>"
      ]
     },
     "metadata": {
      "needs_background": "light"
     },
     "output_type": "display_data"
    }
   ],
   "source": [
    "fig, axes = plt.subplots()\n",
    "axes.scatter(alphas, average_MSE)\n",
    "axes.set(title = \"Average MSE in k-fold CV by Regularization Parameter\", xlabel = r'$\\alpha$', ylabel = \"MSE\", xlim = (0, 0.0001))\n",
    "axes"
   ]
  },
  {
   "cell_type": "markdown",
   "metadata": {},
   "source": [
    "### find minimum MSE"
   ]
  },
  {
   "cell_type": "code",
   "execution_count": 163,
   "metadata": {},
   "outputs": [
    {
     "data": {
      "text/plain": [
       "(array([14]),)"
      ]
     },
     "execution_count": 163,
     "metadata": {},
     "output_type": "execute_result"
    }
   ],
   "source": [
    "np.where(average_MSE == np.min(average_MSE))"
   ]
  },
  {
   "cell_type": "code",
   "execution_count": 164,
   "metadata": {},
   "outputs": [
    {
     "data": {
      "text/plain": [
       "0.00025950242113997375"
      ]
     },
     "execution_count": 164,
     "metadata": {},
     "output_type": "execute_result"
    }
   ],
   "source": [
    "alphas[14]"
   ]
  },
  {
   "cell_type": "code",
   "execution_count": 165,
   "metadata": {},
   "outputs": [],
   "source": [
    "### Fit new model using this alpha"
   ]
  },
  {
   "cell_type": "code",
   "execution_count": 166,
   "metadata": {},
   "outputs": [],
   "source": [
    "final_scaled_model = linear_model.Lasso(alpha = alphas[14])"
   ]
  },
  {
   "cell_type": "code",
   "execution_count": 167,
   "metadata": {},
   "outputs": [
    {
     "name": "stderr",
     "output_type": "stream",
     "text": [
      "/anaconda3/lib/python3.7/site-packages/sklearn/utils/validation.py:475: DataConversionWarning: Data with input dtype int64 was converted to float64 by the scale function.\n",
      "  warnings.warn(msg, DataConversionWarning)\n"
     ]
    },
    {
     "data": {
      "text/plain": [
       "Lasso(alpha=0.00025950242113997375, copy_X=True, fit_intercept=True,\n",
       "   max_iter=1000, normalize=False, positive=False, precompute=False,\n",
       "   random_state=None, selection='cyclic', tol=0.0001, warm_start=False)"
      ]
     },
     "execution_count": 167,
     "metadata": {},
     "output_type": "execute_result"
    }
   ],
   "source": [
    "final_scaled_model.fit(preprocessing.scale(X_train), y_train)"
   ]
  },
  {
   "cell_type": "code",
   "execution_count": 168,
   "metadata": {},
   "outputs": [
    {
     "data": {
      "text/plain": [
       "array([ 5.25957729e-01,  3.63654803e-01,  1.04125015e+00, -8.32223550e-02,\n",
       "       -5.42033019e-02,  4.19511929e-02,  9.51659271e-02, -6.96107911e-03,\n",
       "       -1.27672335e-01, -7.57900335e-03, -2.70127946e-02, -5.46167198e-02,\n",
       "       -2.11484827e-02, -0.00000000e+00,  1.66363797e-01, -6.15155369e-02,\n",
       "       -1.31084521e-03,  1.86594532e-02, -9.67515963e-03, -9.33806374e-04,\n",
       "       -5.64370462e-02,  0.00000000e+00,  2.17069446e-03,  4.32121876e-01,\n",
       "        9.83781899e-02,  1.40644085e-01,  2.62814824e-01, -5.54199762e-02,\n",
       "        5.95522690e-02,  1.22690427e-02,  5.87480678e-03, -4.59161750e-02,\n",
       "       -5.59646654e-03,  8.14698609e-02,  5.60630222e-02,  4.47845388e-02,\n",
       "        5.61969490e-03,  3.84864854e-02,  2.19337754e-01, -1.69083556e-02,\n",
       "        5.16345693e-03,  1.48656305e-01,  1.00488391e-01, -1.78288897e-03,\n",
       "        7.95541904e-02,  3.66378496e-02, -0.00000000e+00,  0.00000000e+00,\n",
       "       -9.86525862e-03, -0.00000000e+00,  1.05759509e-01,  2.46439231e-02,\n",
       "        7.83284741e-02,  7.71212401e-02,  1.53941155e-02, -2.09849704e-03,\n",
       "       -0.00000000e+00,  2.52409971e-03,  7.17982699e-04, -2.93270003e-03,\n",
       "        1.21440172e-02, -1.68183295e-02,  1.90396776e-02,  6.86926648e-04,\n",
       "        0.00000000e+00, -6.41014734e-02, -4.95477332e-03,  5.28427621e-02,\n",
       "       -1.41230949e-01,  3.01496079e-02, -3.46743429e-02, -6.25938956e-02,\n",
       "        1.20205024e-02, -1.42658372e-01, -5.16647530e-02,  4.35111391e-03,\n",
       "       -2.64119659e-02, -1.58148493e-03,  4.12176299e-02, -2.88602061e-02,\n",
       "       -1.21813742e-01, -2.30782200e-02, -2.53011348e-03, -4.15089084e-02,\n",
       "        2.22163649e-02,  6.74655429e-03, -5.13167884e-02, -1.29732310e-02,\n",
       "       -2.57161615e-02,  0.00000000e+00, -3.96851730e-02, -1.28266149e-02,\n",
       "       -7.46467814e-02,  6.43892327e-03, -7.90430908e-02, -1.88649119e-02,\n",
       "        6.70972218e-02, -1.14727438e-01, -7.70529872e-03, -1.24249619e-01,\n",
       "       -6.52915590e-03, -5.74082304e-01,  1.31997967e-02,  6.17049947e-02,\n",
       "        5.23347666e-02, -4.65926026e-02, -7.25452798e-02, -1.15051862e-01,\n",
       "       -5.74887483e-03, -6.04937062e-02, -8.13507923e-03, -4.27504469e-03,\n",
       "       -3.68529063e-03, -1.22688821e-02,  1.93497118e-03, -9.29028514e-03,\n",
       "       -1.74303658e-02, -3.15313769e-03,  1.86557578e-02, -2.37834050e-02,\n",
       "       -6.31359440e-03, -1.66674738e-03, -1.03931814e-01,  1.47771566e-02,\n",
       "        1.16988601e-03, -1.41603376e-01, -1.10097120e-02, -3.83264346e-02,\n",
       "       -1.41772141e-02,  2.65219999e-03, -5.29395892e-02,  1.78170407e-02,\n",
       "       -5.57664992e-02, -1.74567912e-03, -1.48449151e-02, -4.16214441e-03,\n",
       "        1.42390804e-02, -2.95228867e-02, -3.86917230e-02, -2.02205917e-02,\n",
       "       -9.08235297e-02, -2.65765317e-01, -1.36539564e-01, -8.60192506e-03,\n",
       "       -6.88235409e-03, -2.67784613e-02,  5.65228179e-02,  6.51597660e-03,\n",
       "       -3.44044599e-03, -3.42681750e-02,  2.49156472e-02, -9.90187884e-03,\n",
       "        8.71244276e-03,  1.08461495e-02,  8.41927442e-03, -6.50303459e-02,\n",
       "       -9.91495919e-03, -2.73422182e-03, -2.54492150e-02, -3.69789579e-02,\n",
       "        9.17145979e-04, -1.52222509e-02,  6.03543951e-03,  1.23764337e-02,\n",
       "       -6.15297269e-02,  5.96674405e-03,  1.08548184e-03,  1.52557329e-03,\n",
       "        8.55228583e-03,  1.44884926e-02, -2.69560359e-02, -3.06117177e-02,\n",
       "       -3.36797183e-02,  1.57504219e-02, -4.70242645e-03,  4.30708193e-02,\n",
       "       -6.80704428e-02, -3.17550573e-03, -3.43845708e-02, -3.94790330e-02,\n",
       "       -1.25793882e-02, -4.42821387e-02, -1.15983917e-02, -2.31908850e-02,\n",
       "       -4.39348608e-02,  1.16868083e-03, -1.72428236e-02, -1.01276490e-02,\n",
       "       -1.71912037e-02, -9.15966621e-02,  8.34024799e-03,  1.55059697e-02,\n",
       "       -3.80643899e-02, -9.96351294e-03,  1.60189928e-02, -1.40603464e-02,\n",
       "       -4.31625800e-04, -3.70580118e-02, -3.14010501e-03, -1.42247608e-02,\n",
       "       -3.14806791e-02, -5.31739525e-02, -1.91180858e-02, -7.82143282e-03,\n",
       "        1.08482461e-02, -1.94018364e-02, -1.39455405e-02, -4.22738762e-02,\n",
       "       -3.10863444e-02, -1.09591833e-02, -9.46946301e-03, -2.62640790e-02,\n",
       "       -8.91256318e-03, -1.60751063e-02,  6.98948093e-03,  3.14642315e-02,\n",
       "       -2.43712569e-02, -1.94627915e-02,  2.85321761e-02,  2.37316365e-02,\n",
       "        6.58077566e-02,  5.39310298e-02,  7.29536035e-03,  3.04766444e-02,\n",
       "       -8.44723452e-03, -4.10870974e-02, -1.52738059e-02, -7.71902272e-02,\n",
       "       -6.47588130e-02,  3.62426306e-02,  3.20228093e-02,  4.18675297e-01,\n",
       "       -1.31818525e-02, -3.45241820e-02,  3.43809737e-02,  1.99649144e-02,\n",
       "        4.32145890e-02, -2.00041083e-02,  4.84661521e-02,  4.13040958e-03,\n",
       "        1.75840103e-02, -3.08790390e-02,  2.55915644e-02, -1.55365491e-02,\n",
       "       -1.26466955e-02, -2.25077177e-02, -6.69342337e-02, -2.42018987e-02,\n",
       "        0.00000000e+00, -5.93740816e-02, -1.51823723e-02,  9.85133905e-03,\n",
       "       -8.29988941e-02,  4.54120725e-02,  4.34218595e-03, -3.54404991e-02,\n",
       "       -6.34180472e-02, -1.72037084e-02, -1.94245438e-02, -2.55873591e-02,\n",
       "       -1.71070749e-02, -9.91771854e-02, -5.13175836e-03, -3.41092280e-01])"
      ]
     },
     "execution_count": 168,
     "metadata": {},
     "output_type": "execute_result"
    }
   ],
   "source": [
    "final_scaled_model.coef_"
   ]
  },
  {
   "cell_type": "code",
   "execution_count": 170,
   "metadata": {},
   "outputs": [
    {
     "data": {
      "text/plain": [
       "255"
      ]
     },
     "execution_count": 170,
     "metadata": {},
     "output_type": "execute_result"
    }
   ],
   "source": [
    "np.sum(final_scaled_model.coef_ != 0)"
   ]
  },
  {
   "cell_type": "code",
   "execution_count": 171,
   "metadata": {},
   "outputs": [
    {
     "data": {
      "text/plain": [
       "9"
      ]
     },
     "execution_count": 171,
     "metadata": {},
     "output_type": "execute_result"
    }
   ],
   "source": [
    "np.sum(final_scaled_model.coef_ == 0)"
   ]
  },
  {
   "cell_type": "markdown",
   "metadata": {},
   "source": [
    "# Test the two models"
   ]
  },
  {
   "cell_type": "code",
   "execution_count": 180,
   "metadata": {},
   "outputs": [],
   "source": [
    "initial_model_predictions = final_model.predict(X_test)"
   ]
  },
  {
   "cell_type": "code",
   "execution_count": 182,
   "metadata": {},
   "outputs": [
    {
     "data": {
      "text/plain": [
       "5.264171113055042"
      ]
     },
     "execution_count": 182,
     "metadata": {},
     "output_type": "execute_result"
    }
   ],
   "source": [
    "np.mean(squared_error(initial_model_predictions, y_test))"
   ]
  },
  {
   "cell_type": "code",
   "execution_count": 187,
   "metadata": {},
   "outputs": [
    {
     "name": "stderr",
     "output_type": "stream",
     "text": [
      "/anaconda3/lib/python3.7/site-packages/sklearn/utils/validation.py:475: DataConversionWarning: Data with input dtype int64 was converted to float64 by the scale function.\n",
      "  warnings.warn(msg, DataConversionWarning)\n"
     ]
    }
   ],
   "source": [
    "final_model_predictions = final_scaled_model.predict(preprocessing.scale(X_test))"
   ]
  },
  {
   "cell_type": "code",
   "execution_count": 188,
   "metadata": {},
   "outputs": [
    {
     "data": {
      "text/plain": [
       "5.261284625159031"
      ]
     },
     "execution_count": 188,
     "metadata": {},
     "output_type": "execute_result"
    }
   ],
   "source": [
    "np.mean(squared_error(final_model_predictions, y_test))"
   ]
  },
  {
   "cell_type": "code",
   "execution_count": 189,
   "metadata": {},
   "outputs": [
    {
     "name": "stderr",
     "output_type": "stream",
     "text": [
      "/anaconda3/lib/python3.7/site-packages/sklearn/utils/validation.py:475: DataConversionWarning: Data with input dtype int64 was converted to float64 by the scale function.\n",
      "  warnings.warn(msg, DataConversionWarning)\n"
     ]
    },
    {
     "data": {
      "text/plain": [
       "array([[ 1.2785174 , -0.78747569,  0.48088927, ..., -0.44882425,\n",
       "        -0.00991314,  0.15917801],\n",
       "       [-1.19272879, -0.78747569, -1.11221297, ..., -0.44882425,\n",
       "        -0.00991314,  0.15917801],\n",
       "       [-1.14124449,  0.96738146,  0.84852825, ..., -0.44882425,\n",
       "        -0.00991314,  2.70028329],\n",
       "       ...,\n",
       "       [-0.11155858,  0.38242907,  0.11325029, ..., -0.44882425,\n",
       "        -0.00991314, -1.11137463],\n",
       "       [-1.0897602 , -0.78747569, -1.35730563, ..., -0.44882425,\n",
       "        -0.00991314,  0.15917801],\n",
       "       [-1.39866597,  1.55233384, -0.25438869, ...,  2.06849977,\n",
       "        -0.00991314, -1.11137463]])"
      ]
     },
     "execution_count": 189,
     "metadata": {},
     "output_type": "execute_result"
    }
   ],
   "source": [
    "preprocessing.scale(X_test)"
   ]
  },
  {
   "cell_type": "markdown",
   "metadata": {},
   "source": [
    "The results are not that dramatic, but the second method is recommended nonetheless. "
   ]
  }
 ],
 "metadata": {
  "kernelspec": {
   "display_name": "Python 3",
   "language": "python",
   "name": "python3"
  },
  "language_info": {
   "codemirror_mode": {
    "name": "ipython",
    "version": 3
   },
   "file_extension": ".py",
   "mimetype": "text/x-python",
   "name": "python",
   "nbconvert_exporter": "python",
   "pygments_lexer": "ipython3",
   "version": "3.7.2"
  }
 },
 "nbformat": 4,
 "nbformat_minor": 2
}
